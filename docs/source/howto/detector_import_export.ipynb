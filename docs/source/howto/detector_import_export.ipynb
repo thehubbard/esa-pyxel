{
 "cells": [
  {
   "cell_type": "markdown",
   "id": "b8e3c1c3-a69d-40ce-b7e0-be383171a562",
   "metadata": {},
   "source": [
    "# How to store/retrieve a `Detector` object\n",
    "\n",
    "In this how-to guide we will see how to store an existing `Detector` object (e.g. a `CCD` detector) into a file (e.g. hdf5) and how to load a file into a new `Detector` object.\n",
    "\n",
    "By the end of the lesson you will know how to:\n",
    "* Save a `CCD` detector object into a HDF5 file with method `Detector.to_hdf5`\n",
    "* Load a `CCD` detector object from a HDF5 file with method `Detector.from_hdf5`\n",
    "\n",
    "To create the `CCD` detector object, we will run the simple pipeline from the [first simulation pipeline](https://gitlab.com/esa/pyxel-data/-/blob/master/tutorial/01_first_simulation.ipynb)."
   ]
  },
  {
   "cell_type": "markdown",
   "id": "81db600e-95ad-4e8c-b253-6ff4ffffc374",
   "metadata": {},
   "source": [
    "## Get a new CCD detector object\n",
    "\n",
    "We are going to create a new CCD detector object based on our [first simulation pipeline](https://gitlab.com/esa/pyxel-data/-/blob/master/tutorial/01_first_simulation.ipynb).\n",
    "\n",
    "### Run a simple pipeline\n",
    "\n",
    "Run a simple pipeline to create a new `CCDDetector` object."
   ]
  },
  {
   "cell_type": "code",
   "execution_count": null,
   "id": "831d81eb-f2d5-4789-92c8-3fdba68ed538",
   "metadata": {},
   "outputs": [],
   "source": [
    "import pyxel\n",
    "\n",
    "# Load the configuration file\n",
    "config = pyxel.load(\"exposure.yaml\")\n",
    "\n",
    "# Run the pipeline\n",
    "result = pyxel.exposure_mode(\n",
    "    exposure=config.exposure,\n",
    "    detector=config.ccd_detector,\n",
    "    pipeline=config.pipeline,\n",
    ")\n",
    "\n",
    "result"
   ]
  },
  {
   "cell_type": "code",
   "execution_count": null,
   "id": "95f6c7e9-c7ed-402d-ac6f-887d88fbac6f",
   "metadata": {},
   "outputs": [],
   "source": [
    "# Get the detector object\n",
    "detector = config.ccd_detector\n",
    "\n",
    "detector"
   ]
  },
  {
   "cell_type": "markdown",
   "id": "8e4b1888-1cf9-40dd-b383-b2616da08f65",
   "metadata": {},
   "source": [
    "### Display detector"
   ]
  },
  {
   "cell_type": "code",
   "execution_count": null,
   "id": "5fd9f620-ba63-47bf-89a0-e86b021eeada",
   "metadata": {},
   "outputs": [],
   "source": [
    "pyxel.display_detector(detector)"
   ]
  },
  {
   "cell_type": "markdown",
   "id": "cff9fc5a-6e0e-4d67-bb01-9f9193f3f0ab",
   "metadata": {},
   "source": [
    "## Store 'detector' into a HDF5 file"
   ]
  },
  {
   "cell_type": "code",
   "execution_count": null,
   "id": "b18c0d04-eaf4-4ed3-ab3e-d9f23fccf0d0",
   "metadata": {},
   "outputs": [],
   "source": [
    "def get_file_size(filename):\n",
    "    \"\"\"Display filename's size.\"\"\"\n",
    "    import os\n",
    "\n",
    "    size = os.path.getsize(filename) / 1024 / 1024\n",
    "    print(f\"Size of file {filename!r}: {size:.2f} MB\")"
   ]
  },
  {
   "cell_type": "code",
   "execution_count": null,
   "id": "af1a0616-c0f8-49a8-94df-23362fd6be06",
   "metadata": {},
   "outputs": [],
   "source": [
    "detector.to_hdf5(\"ccd.h5\")"
   ]
  },
  {
   "cell_type": "code",
   "execution_count": null,
   "id": "265c1fe2-aeb1-44c8-a4d8-5a897cf553ef",
   "metadata": {},
   "outputs": [],
   "source": [
    "get_file_size(\"ccd.h5\")"
   ]
  },
  {
   "cell_type": "markdown",
   "id": "671be1ac-8d55-4263-ba15-22d79142b3c0",
   "metadata": {},
   "source": [
    "## Create a new detector from the HDF5 file"
   ]
  },
  {
   "cell_type": "code",
   "execution_count": null,
   "id": "840cca60-484f-4bc2-a9f0-aac887c757ca",
   "metadata": {},
   "outputs": [],
   "source": [
    "from pyxel.detectors import Detector\n",
    "\n",
    "new_detector = Detector.from_hdf5(\"ccd.h5\")\n",
    "\n",
    "new_detector"
   ]
  },
  {
   "cell_type": "markdown",
   "id": "d0303797-a1da-4642-8959-62c9eef9517d",
   "metadata": {},
   "source": [
    "### Check if the detector is valid"
   ]
  },
  {
   "cell_type": "code",
   "execution_count": null,
   "id": "22eafe85-aee8-4b26-b9aa-ec944b4e0722",
   "metadata": {},
   "outputs": [],
   "source": [
    "detector == new_detector"
   ]
  },
  {
   "cell_type": "markdown",
   "id": "41927342-652f-459b-a176-bd4a1c0dfea1",
   "metadata": {},
   "source": [
    "### Display the new detector"
   ]
  },
  {
   "cell_type": "code",
   "execution_count": null,
   "id": "e2a2334c-299f-481c-87d1-45137bd225ef",
   "metadata": {},
   "outputs": [],
   "source": [
    "pyxel.display_detector(new_detector)"
   ]
  },
  {
   "cell_type": "markdown",
   "id": "9b59a7cd-10a2-4f07-8296-10e760f86bc7",
   "metadata": {},
   "source": [
    "## Open the HDF5 file"
   ]
  },
  {
   "cell_type": "code",
   "execution_count": null,
   "id": "fb76b052-488d-46ba-b55e-1fd0205d3d5b",
   "metadata": {},
   "outputs": [],
   "source": [
    "import h5py\n",
    "\n",
    "f = h5py.File(\"ccd.h5\")\n",
    "\n",
    "f"
   ]
  },
  {
   "cell_type": "code",
   "execution_count": null,
   "id": "87c46042-9964-4c8d-9c8c-dc8cca4bde60",
   "metadata": {},
   "outputs": [],
   "source": [
    "# Get attributes\n",
    "dict(f.attrs)"
   ]
  },
  {
   "cell_type": "code",
   "execution_count": null,
   "id": "730dbe70-510a-4e54-a595-531554b982b8",
   "metadata": {},
   "outputs": [],
   "source": [
    "# Get list of datasets\n",
    "list(f)"
   ]
  },
  {
   "cell_type": "code",
   "execution_count": null,
   "id": "6cfa8589-3384-4779-9b1b-0d24767fb227",
   "metadata": {},
   "outputs": [],
   "source": [
    "list(f[\"/data\"])"
   ]
  },
  {
   "cell_type": "code",
   "execution_count": null,
   "id": "c00734ec-354d-4743-a19c-5feeb2af6316",
   "metadata": {},
   "outputs": [],
   "source": [
    "# Get a dataset\n",
    "f[\"/data/image\"]"
   ]
  },
  {
   "cell_type": "code",
   "execution_count": null,
   "id": "ed9a87fe-9d7d-4c92-87f9-2c21fd83353b",
   "metadata": {},
   "outputs": [],
   "source": [
    "import numpy as np\n",
    "\n",
    "np.array(f[\"/data/image\"])"
   ]
  },
  {
   "cell_type": "code",
   "execution_count": null,
   "id": "c7146d64-9134-40d9-9d2f-a21d3794f59b",
   "metadata": {},
   "outputs": [],
   "source": [
    "f.close()"
   ]
  },
  {
   "cell_type": "code",
   "execution_count": null,
   "id": "c6e4ef15-58e0-4d3f-8680-34a976beedd9",
   "metadata": {},
   "outputs": [],
   "source": []
  }
 ],
 "metadata": {
  "kernelspec": {
   "display_name": "Python 3 (ipykernel)",
   "language": "python",
   "name": "python3"
  },
  "language_info": {
   "codemirror_mode": {
    "name": "ipython",
    "version": 3
   },
   "file_extension": ".py",
   "mimetype": "text/x-python",
   "name": "python",
   "nbconvert_exporter": "python",
   "pygments_lexer": "ipython3",
   "version": "3.10.5"
  },
  "toc-autonumbering": true
 },
 "nbformat": 4,
 "nbformat_minor": 5
}
