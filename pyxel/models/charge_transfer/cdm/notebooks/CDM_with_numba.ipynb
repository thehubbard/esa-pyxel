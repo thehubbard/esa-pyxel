{
 "cells": [
  {
   "cell_type": "markdown",
   "metadata": {},
   "source": [
    "# Comparison CDM with and without numba"
   ]
  },
  {
   "cell_type": "code",
   "execution_count": 1,
   "metadata": {},
   "outputs": [],
   "source": [
    "import numpy as np\n",
    "import numba\n",
    "from pathlib import Path"
   ]
  },
  {
   "cell_type": "markdown",
   "metadata": {},
   "source": [
    "## Prepare input data"
   ]
  },
  {
   "cell_type": "code",
   "execution_count": 3,
   "metadata": {},
   "outputs": [
    {
     "data": {
      "text/plain": [
       "dtype('int64')"
      ]
     },
     "execution_count": 3,
     "metadata": {},
     "output_type": "execute_result"
    }
   ],
   "source": [
    "# Input filenames\n",
    "parallel_filename = Path('../cdm_euclid_parallel.dat').resolve(strict=True)\n",
    "serial_filename = Path('../cdm_euclid_serial.dat').resolve(strict=True)\n",
    "\n",
    "# Input frame\n",
    "shape = 2000, 2000\n",
    "frame = np.arange(shape[0] * shape[1]).reshape(shape)\n",
    "frame.dtype"
   ]
  },
  {
   "cell_type": "code",
   "execution_count": 3,
   "metadata": {},
   "outputs": [],
   "source": [
    "# Initialization\n",
    "parallel_trapdata = np.loadtxt(parallel_filename)\n",
    "assert parallel_trapdata.ndim > 1\n",
    "\n",
    "serial_trapdata = np.loadtxt(serial_filename)\n",
    "assert serial_trapdata.ndim > 1"
   ]
  },
  {
   "cell_type": "markdown",
   "metadata": {},
   "source": [
    "## Run CDM without 'Numba'"
   ]
  },
  {
   "cell_type": "code",
   "execution_count": 4,
   "metadata": {},
   "outputs": [],
   "source": [
    "def run_cdm(image, parallel_trapdata, serial_trapdata,             \n",
    "            rdose: float = 8.0e11,\n",
    "            vth: float = 1.168e7,\n",
    "            beta_p: float = 0.6, beta_s: float = 0.6,\n",
    "            vg: float = 6.e-11, svg: float = 1.0e-10,\n",
    "            t: float = 20.48e-3, st: float = 5.0e-6,\n",
    "            fwc: int = 200000, sfwc: int = 730000):\n",
    "    \"\"\"Electron trapping in imaging mode (non-TDI).\n",
    "\n",
    "    :param image:\n",
    "    :return:\n",
    "    \"\"\"\n",
    "    nt_p = parallel_trapdata[:, 0]\n",
    "    sigma_p = parallel_trapdata[:, 1]\n",
    "    tr_p = parallel_trapdata[:, 2]\n",
    "    \n",
    "    nt_s = serial_trapdata[:, 0]\n",
    "    sigma_s = serial_trapdata[:, 1]\n",
    "    tr_s = serial_trapdata[:, 2]\n",
    "    \n",
    "    # absolute trap density which should be scaled according to radiation dose\n",
    "    # (nt=1.5e10 gives approx fit to GH data for a dose of 8e9 10MeV equiv. protons)\n",
    "\n",
    "    # array sizes\n",
    "    ydim, xdim = image.shape\n",
    "    s = image\n",
    "\n",
    "    # add background electrons (diffuse optical background level)\n",
    "    # s += self.dob\n",
    "\n",
    "    # apply FWC (anti-blooming) - not needed we apply this model elsewhere\n",
    "    # msk = s > self.fwc\n",
    "    # s[msk] = self.fwc\n",
    "\n",
    "    \n",
    "    # start with parallel direction\n",
    "#     if True:\n",
    "        # print('adding parallel')\n",
    "    no = np.zeros_like(image, dtype=np.float64)\n",
    "    nt_p *= rdose             # absolute trap density [per cm**3]\n",
    "    zdim_p = len(nt_p)\n",
    "\n",
    "    alpha_p = t * sigma_p * vth * fwc ** beta_p / (2. * vg)\n",
    "    g_p = 2. * nt_p * vg / fwc ** beta_p\n",
    "\n",
    "    gamma_p = g_p * np.arange(ydim).reshape((ydim, 1))\n",
    "\n",
    "    for i in range(ydim):\n",
    "        # print(i)\n",
    "        for k in range(zdim_p):\n",
    "            for j in range(xdim):\n",
    "                nc = 0.\n",
    "\n",
    "                if s[i, j] > 0.01:\n",
    "                    nc = max((gamma_p[i, k] * s[i, j] ** beta_p - no[j, k]) /\n",
    "                             (gamma_p[i, k] * s[i, j] ** (beta_p - 1.) + 1.) *\n",
    "                             (1. - np.exp(-alpha_p[k] * s[i, j] ** (1. - beta_p))), 0.)\n",
    "\n",
    "                no[j, k] += nc\n",
    "                nr = no[j, k] * (1. - np.exp(-t/tr_p[k]))\n",
    "                s[i, j] += -1 * nc + nr\n",
    "                no[j, k] -= nr\n",
    "\n",
    "    # now serial direction\n",
    "    #if self.serial_cti:\n",
    "        # print('adding serial')\n",
    "\n",
    "    sno = np.zeros_like(image, dtype=np.float64)\n",
    "    nt_s *= rdose             # absolute trap density [per cm**3]\n",
    "    zdim_s = len(nt_s)\n",
    "\n",
    "    alpha_s = st * sigma_s * vth * sfwc ** beta_s / (2. * svg)\n",
    "    g_s = 2. * nt_s * svg / sfwc ** beta_s\n",
    "\n",
    "    gamma_s = g_s * np.arange(xdim).reshape((xdim, 1))\n",
    "\n",
    "    for j in range(xdim):\n",
    "        # print(j)\n",
    "        for k in range(zdim_s):\n",
    "            if tr_s[k] < t:\n",
    "                for i in range(ydim):\n",
    "                    nc = 0.\n",
    "\n",
    "                    if s[i, j] > 0.01:\n",
    "                        nc = max((gamma_s[j, k] * s[i, j] ** beta_s - sno[i, k]) /\n",
    "                                 (gamma_s[j, k] * s[i, j] ** (beta_s - 1.) + 1.) *\n",
    "                                 (1. - np.exp(-alpha_s[k] * s[i, j] ** (1. - beta_s))), 0.)\n",
    "\n",
    "                    sno[i, k] += nc\n",
    "                    nr = sno[i, k] * (1. - np.exp(-st/tr_s[k]))\n",
    "                    s[i, j] += -1 * nc + nr\n",
    "                    sno[i, k] -= nr\n",
    "\n",
    "    return s"
   ]
  },
  {
   "cell_type": "code",
   "execution_count": 5,
   "metadata": {},
   "outputs": [
    {
     "name": "stdout",
     "output_type": "stream",
     "text": [
      "4min 31s ± 749 ms per loop (mean ± std. dev. of 7 runs, 1 loop each)\n"
     ]
    }
   ],
   "source": [
    "%timeit run_cdm(image=frame.astype(np.float), parallel_trapdata=parallel_trapdata.copy(), serial_trapdata=serial_trapdata.copy())"
   ]
  },
  {
   "cell_type": "code",
   "execution_count": 6,
   "metadata": {},
   "outputs": [
    {
     "data": {
      "text/plain": [
       "array([[0.00000000e+00, 8.73795487e-01, 1.75469425e+00, ...,\n",
       "        1.98366054e+03, 1.98465760e+03, 1.98565467e+03],\n",
       "       [1.92038057e+03, 1.90694591e+03, 1.90812763e+03, ...,\n",
       "        3.85898827e+03, 3.85996777e+03, 3.86094727e+03],\n",
       "       [3.83837283e+03, 3.81745832e+03, 3.81869169e+03, ...,\n",
       "        5.78889622e+03, 5.78988173e+03, 5.79086724e+03],\n",
       "       ...,\n",
       "       [3.98157507e+06, 3.98014992e+06, 3.98015202e+06, ...,\n",
       "        3.98249390e+06, 3.98249492e+06, 3.98249595e+06],\n",
       "       [3.98357135e+06, 3.98214577e+06, 3.98214787e+06, ...,\n",
       "        3.98448985e+06, 3.98449087e+06, 3.98449190e+06],\n",
       "       [3.98556763e+06, 3.98414163e+06, 3.98414373e+06, ...,\n",
       "        3.98648579e+06, 3.98648682e+06, 3.98648785e+06]])"
      ]
     },
     "execution_count": 6,
     "metadata": {},
     "output_type": "execute_result"
    }
   ],
   "source": [
    "result1 = run_cdm(image=frame.astype(np.float), parallel_trapdata=parallel_trapdata.copy(), serial_trapdata=serial_trapdata.copy())\n",
    "result1"
   ]
  },
  {
   "cell_type": "markdown",
   "metadata": {},
   "source": [
    "## With Numba"
   ]
  },
  {
   "cell_type": "code",
   "execution_count": 7,
   "metadata": {},
   "outputs": [],
   "source": [
    "@numba.jit(nopython=True, nogil=True)\n",
    "def run_cdm_with_numba(image, parallel_trapdata, serial_trapdata,             \n",
    "            rdose: float = 8.0e11,\n",
    "            vth: float = 1.168e7,\n",
    "            beta_p: float = 0.6, beta_s: float = 0.6,\n",
    "            vg: float = 6.e-11, svg: float = 1.0e-10,\n",
    "            t: float = 20.48e-3, st: float = 5.0e-6,\n",
    "            fwc: int = 200000, sfwc: int = 730000):\n",
    "    \"\"\"Electron trapping in imaging mode (non-TDI).\n",
    "\n",
    "    :param image:\n",
    "    :return:\n",
    "    \"\"\"\n",
    "    nt_p = parallel_trapdata[:, 0]\n",
    "    sigma_p = parallel_trapdata[:, 1]\n",
    "    tr_p = parallel_trapdata[:, 2]\n",
    "    \n",
    "    nt_s = serial_trapdata[:, 0]\n",
    "    sigma_s = serial_trapdata[:, 1]\n",
    "    tr_s = serial_trapdata[:, 2]\n",
    "    \n",
    "    # absolute trap density which should be scaled according to radiation dose\n",
    "    # (nt=1.5e10 gives approx fit to GH data for a dose of 8e9 10MeV equiv. protons)\n",
    "\n",
    "    # array sizes\n",
    "    ydim, xdim = image.shape\n",
    "    s = image\n",
    "\n",
    "    # add background electrons (diffuse optical background level)\n",
    "    # s += self.dob\n",
    "\n",
    "    # apply FWC (anti-blooming) - not needed we apply this model elsewhere\n",
    "    # msk = s > self.fwc\n",
    "    # s[msk] = self.fwc\n",
    "\n",
    "    \n",
    "    # start with parallel direction\n",
    "#     if True:\n",
    "        # print('adding parallel')\n",
    "    no = np.zeros_like(image, dtype=np.float64)\n",
    "    nt_p *= rdose             # absolute trap density [per cm**3]\n",
    "    zdim_p = len(nt_p)\n",
    "\n",
    "    alpha_p = t * sigma_p * vth * fwc ** beta_p / (2. * vg)\n",
    "    g_p = 2. * nt_p * vg / fwc ** beta_p\n",
    "\n",
    "    gamma_p = g_p * np.arange(ydim).reshape((ydim, 1))\n",
    "\n",
    "    for i in range(ydim):\n",
    "        # print(i)\n",
    "        for k in range(zdim_p):\n",
    "            for j in range(xdim):\n",
    "                nc = 0.\n",
    "\n",
    "                if s[i, j] > 0.01:\n",
    "                    nc = max((gamma_p[i, k] * s[i, j] ** beta_p - no[j, k]) /\n",
    "                             (gamma_p[i, k] * s[i, j] ** (beta_p - 1.) + 1.) *\n",
    "                             (1. - np.exp(-alpha_p[k] * s[i, j] ** (1. - beta_p))), 0.)\n",
    "\n",
    "                no[j, k] += nc\n",
    "                nr = no[j, k] * (1. - np.exp(-t/tr_p[k]))\n",
    "                s[i, j] += -1 * nc + nr\n",
    "                no[j, k] -= nr\n",
    "\n",
    "    # now serial direction\n",
    "    #if self.serial_cti:\n",
    "        # print('adding serial')\n",
    "\n",
    "    sno = np.zeros_like(image, dtype=np.float64)\n",
    "    nt_s *= rdose             # absolute trap density [per cm**3]\n",
    "    zdim_s = len(nt_s)\n",
    "\n",
    "    alpha_s = st * sigma_s * vth * sfwc ** beta_s / (2. * svg)\n",
    "    g_s = 2. * nt_s * svg / sfwc ** beta_s\n",
    "\n",
    "    gamma_s = g_s * np.arange(xdim).reshape((xdim, 1))\n",
    "\n",
    "    for j in range(xdim):\n",
    "        # print(j)\n",
    "        for k in range(zdim_s):\n",
    "            if tr_s[k] < t:\n",
    "                for i in range(ydim):\n",
    "                    nc = 0.\n",
    "\n",
    "                    if s[i, j] > 0.01:\n",
    "                        nc = max((gamma_s[j, k] * s[i, j] ** beta_s - sno[i, k]) /\n",
    "                                 (gamma_s[j, k] * s[i, j] ** (beta_s - 1.) + 1.) *\n",
    "                                 (1. - np.exp(-alpha_s[k] * s[i, j] ** (1. - beta_s))), 0.)\n",
    "\n",
    "                    sno[i, k] += nc\n",
    "                    nr = sno[i, k] * (1. - np.exp(-st/tr_s[k]))\n",
    "                    s[i, j] += -1 * nc + nr\n",
    "                    sno[i, k] -= nr\n",
    "\n",
    "    return s"
   ]
  },
  {
   "cell_type": "code",
   "execution_count": 8,
   "metadata": {},
   "outputs": [
    {
     "data": {
      "text/plain": [
       "array([[4.00e+01, 2.20e-13, 8.20e-07],\n",
       "       [1.20e+00, 2.20e-13, 3.00e-04],\n",
       "       [1.00e+00, 4.72e-15, 2.00e-03],\n",
       "       [1.00e+00, 1.37e-16, 2.50e-02],\n",
       "       [2.30e-01, 2.78e-17, 1.24e-01],\n",
       "       [2.90e+00, 1.93e-17, 1.67e+01],\n",
       "       [1.00e+01, 6.39e-18, 4.96e+02]])"
      ]
     },
     "execution_count": 8,
     "metadata": {},
     "output_type": "execute_result"
    }
   ],
   "source": [
    "parallel_trapdata"
   ]
  },
  {
   "cell_type": "code",
   "execution_count": 9,
   "metadata": {},
   "outputs": [
    {
     "name": "stdout",
     "output_type": "stream",
     "text": [
      "6.33 s ± 387 ms per loop (mean ± std. dev. of 7 runs, 1 loop each)\n"
     ]
    }
   ],
   "source": [
    "%timeit run_cdm_with_numba(image=frame.astype(np.float), parallel_trapdata=parallel_trapdata.copy(), serial_trapdata=serial_trapdata.copy())"
   ]
  },
  {
   "cell_type": "code",
   "execution_count": 10,
   "metadata": {},
   "outputs": [
    {
     "data": {
      "text/plain": [
       "array([[0.00000000e+00, 8.73795487e-01, 1.75469425e+00, ...,\n",
       "        1.98366054e+03, 1.98465760e+03, 1.98565467e+03],\n",
       "       [1.92038057e+03, 1.90694591e+03, 1.90812763e+03, ...,\n",
       "        3.85898827e+03, 3.85996777e+03, 3.86094727e+03],\n",
       "       [3.83837283e+03, 3.81745832e+03, 3.81869169e+03, ...,\n",
       "        5.78889622e+03, 5.78988173e+03, 5.79086724e+03],\n",
       "       ...,\n",
       "       [3.98157507e+06, 3.98014992e+06, 3.98015202e+06, ...,\n",
       "        3.98249390e+06, 3.98249492e+06, 3.98249595e+06],\n",
       "       [3.98357135e+06, 3.98214577e+06, 3.98214787e+06, ...,\n",
       "        3.98448985e+06, 3.98449087e+06, 3.98449190e+06],\n",
       "       [3.98556763e+06, 3.98414163e+06, 3.98414373e+06, ...,\n",
       "        3.98648579e+06, 3.98648682e+06, 3.98648785e+06]])"
      ]
     },
     "execution_count": 10,
     "metadata": {},
     "output_type": "execute_result"
    }
   ],
   "source": [
    "result2 = run_cdm_with_numba(image=frame.astype(np.float), parallel_trapdata=parallel_trapdata.copy(), serial_trapdata=serial_trapdata.copy())\n",
    "result2"
   ]
  },
  {
   "cell_type": "code",
   "execution_count": 11,
   "metadata": {},
   "outputs": [],
   "source": [
    "np.testing.assert_array_equal(result1, result2)"
   ]
  },
  {
   "cell_type": "markdown",
   "metadata": {},
   "source": [
    "## Result comparison"
   ]
  },
  {
   "cell_type": "markdown",
   "metadata": {},
   "source": [
    "| Frame shape | Without Numba | With Numba | Speedup |\n",
    "|-------------|---------------|------------|---------|\n",
    "| 50x50       | 180 ms        | 3.67 ms    | 49x     |\n",
    "| 100x100     | 687 ms        | 14.3 ms    | 48x     |\n",
    "| 500x500     | 17.2 s        | 355 ms     | 48x     |\n",
    "| 1000x1000   | 1 min 15 s    | 1.5 s      | 50x     |\n",
    "| 2000x2000   | 4 min 31 s    | 6.33 s     | 42x     |"
   ]
  },
  {
   "cell_type": "raw",
   "metadata": {},
   "source": [
    "@numba.jit('double[:,:](double[:,:], double[:,:], double[:,:], double, double, double, double, double, double, double, double, int64, int64)', nopython=True, nogil=True)\n",
    "def run_cdm_with_numba2(image, parallel_trapdata, serial_trapdata,             \n",
    "            rdose: float = 8.0e11,\n",
    "            vth: float = 1.168e7,\n",
    "            beta_p: float = 0.6, beta_s: float = 0.6,\n",
    "            vg: float = 6.e-11, svg: float = 1.0e-10,\n",
    "            t: float = 20.48e-3, st: float = 5.0e-6,\n",
    "            fwc: int = 200000, sfwc: int = 730000):\n",
    "    \"\"\"Electron trapping in imaging mode (non-TDI).\n",
    "\n",
    "    :param image:\n",
    "    :return:\n",
    "    \"\"\"\n",
    "    nt_p = parallel_trapdata[:, 0]\n",
    "    sigma_p = parallel_trapdata[:, 1]\n",
    "    tr_p = parallel_trapdata[:, 2]\n",
    "    \n",
    "    nt_s = serial_trapdata[:, 0]\n",
    "    sigma_s = serial_trapdata[:, 1]\n",
    "    tr_s = serial_trapdata[:, 2]\n",
    "    \n",
    "    # absolute trap density which should be scaled according to radiation dose\n",
    "    # (nt=1.5e10 gives approx fit to GH data for a dose of 8e9 10MeV equiv. protons)\n",
    "\n",
    "    # array sizes\n",
    "    ydim, xdim = image.shape\n",
    "    s = image\n",
    "\n",
    "    # add background electrons (diffuse optical background level)\n",
    "    # s += self.dob\n",
    "\n",
    "    # apply FWC (anti-blooming) - not needed we apply this model elsewhere\n",
    "    # msk = s > self.fwc\n",
    "    # s[msk] = self.fwc\n",
    "\n",
    "    \n",
    "    # start with parallel direction\n",
    "#     if True:\n",
    "        # print('adding parallel')\n",
    "    no = np.zeros_like(image, dtype=np.float64)\n",
    "    nt_p *= rdose             # absolute trap density [per cm**3]\n",
    "    zdim_p = len(nt_p)\n",
    "\n",
    "    alpha_p = t * sigma_p * vth * fwc ** beta_p / (2. * vg)\n",
    "    g_p = 2. * nt_p * vg / fwc ** beta_p\n",
    "\n",
    "    gamma_p = g_p * np.arange(ydim).reshape((ydim, 1))\n",
    "\n",
    "    for i in range(ydim):\n",
    "        # print(i)\n",
    "        for k in range(zdim_p):\n",
    "            for j in range(xdim):\n",
    "                nc = 0.\n",
    "\n",
    "                if s[i, j] > 0.01:\n",
    "                    nc = max((gamma_p[i, k] * s[i, j] ** beta_p - no[j, k]) /\n",
    "                             (gamma_p[i, k] * s[i, j] ** (beta_p - 1.) + 1.) *\n",
    "                             (1. - np.exp(-alpha_p[k] * s[i, j] ** (1. - beta_p))), 0.)\n",
    "\n",
    "                no[j, k] += nc\n",
    "                nr = no[j, k] * (1. - np.exp(-t/tr_p[k]))\n",
    "                s[i, j] += -1 * nc + nr\n",
    "                no[j, k] -= nr\n",
    "\n",
    "    # now serial direction\n",
    "    #if self.serial_cti:\n",
    "        # print('adding serial')\n",
    "\n",
    "    sno = np.zeros_like(image, dtype=np.float64)\n",
    "    nt_s *= rdose             # absolute trap density [per cm**3]\n",
    "    zdim_s = len(nt_s)\n",
    "\n",
    "    alpha_s = st * sigma_s * vth * sfwc ** beta_s / (2. * svg)\n",
    "    g_s = 2. * nt_s * svg / sfwc ** beta_s\n",
    "\n",
    "    gamma_s = g_s * np.arange(xdim).reshape((xdim, 1))\n",
    "\n",
    "    for j in range(xdim):\n",
    "        # print(j)\n",
    "        for k in range(zdim_s):\n",
    "            if tr_s[k] < t:\n",
    "                for i in range(ydim):\n",
    "                    nc = 0.\n",
    "\n",
    "                    if s[i, j] > 0.01:\n",
    "                        nc = max((gamma_s[j, k] * s[i, j] ** beta_s - sno[i, k]) /\n",
    "                                 (gamma_s[j, k] * s[i, j] ** (beta_s - 1.) + 1.) *\n",
    "                                 (1. - np.exp(-alpha_s[k] * s[i, j] ** (1. - beta_s))), 0.)\n",
    "\n",
    "                    sno[i, k] += nc\n",
    "                    nr = sno[i, k] * (1. - np.exp(-st/tr_s[k]))\n",
    "                    s[i, j] += -1 * nc + nr\n",
    "                    sno[i, k] -= nr\n",
    "\n",
    "    return s"
   ]
  },
  {
   "cell_type": "raw",
   "metadata": {},
   "source": [
    "%timeit run_cdm_with_numba2(image=frame.astype(np.float), parallel_trapdata=parallel_trapdata.copy(), serial_trapdata=serial_trapdata.copy())"
   ]
  },
  {
   "cell_type": "code",
   "execution_count": null,
   "metadata": {},
   "outputs": [],
   "source": []
  }
 ],
 "metadata": {
  "kernelspec": {
   "display_name": "Python 3",
   "language": "python",
   "name": "python3"
  },
  "language_info": {
   "codemirror_mode": {
    "name": "ipython",
    "version": 3
   },
   "file_extension": ".py",
   "mimetype": "text/x-python",
   "name": "python",
   "nbconvert_exporter": "python",
   "pygments_lexer": "ipython3",
   "version": "3.6.4"
  }
 },
 "nbformat": 4,
 "nbformat_minor": 2
}
