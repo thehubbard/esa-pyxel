{
 "cells": [
  {
   "cell_type": "raw",
   "id": "824f3815-ba86-4558-8316-650fa5ff7dbc",
   "metadata": {},
   "source": [
    "!pip install \"pynufft==2020.1.2\""
   ]
  },
  {
   "cell_type": "code",
   "execution_count": 1,
   "id": "57175cda-3718-4961-86d5-4e57c8d574e9",
   "metadata": {},
   "outputs": [],
   "source": [
    "%load_ext lab_black"
   ]
  },
  {
   "cell_type": "markdown",
   "id": "3a843967-a773-44d0-82d0-6f580435927e",
   "metadata": {},
   "source": [
    "# Get a 'detector' object"
   ]
  },
  {
   "cell_type": "code",
   "execution_count": 2,
   "id": "ced3ef19-5ef7-4ff6-8cc9-559e88dc2b47",
   "metadata": {},
   "outputs": [
    {
     "data": {
      "text/plain": [
       "<pyxel.detectors.ccd.CCD at 0x7f9e7ef3a970>"
      ]
     },
     "execution_count": 2,
     "metadata": {},
     "output_type": "execute_result"
    }
   ],
   "source": [
    "# Get a `Detector` object\n",
    "import shelve\n",
    "\n",
    "with shelve.open(\"arctic_comparison\", \"r\") as dct:\n",
    "    detector = dct[\"detector\"]\n",
    "\n",
    "detector"
   ]
  },
  {
   "cell_type": "code",
   "execution_count": 3,
   "id": "cfdb0d76-e4c9-44ab-ad59-fff837d479d2",
   "metadata": {},
   "outputs": [],
   "source": [
    "import numpy as np\n",
    "import typing as t"
   ]
  },
  {
   "cell_type": "markdown",
   "id": "00e79591-9efa-4670-bf51-8edf750eb6e4",
   "metadata": {},
   "source": [
    "# Create densities and release timescales for 5 traps"
   ]
  },
  {
   "cell_type": "code",
   "execution_count": 4,
   "id": "8e18be1f-bed1-47f6-8cf3-0ba29fa24d0a",
   "metadata": {},
   "outputs": [],
   "source": [
    "rng = np.random.default_rng(seed=1234)\n",
    "\n",
    "densities = rng.normal(loc=100.0, scale=5, size=5)\n",
    "release_timescales = rng.normal(loc=1.2, scale=0.3, size=5)"
   ]
  },
  {
   "cell_type": "code",
   "execution_count": 5,
   "id": "134d2108-eedc-4a9e-85df-9f8da76a2d2e",
   "metadata": {},
   "outputs": [
    {
     "data": {
      "text/plain": [
       "array([ 91.98081597, 100.32049957, 103.70445648, 100.76309597,\n",
       "       104.31871946])"
      ]
     },
     "execution_count": 5,
     "metadata": {},
     "output_type": "execute_result"
    }
   ],
   "source": [
    "densities"
   ]
  },
  {
   "cell_type": "code",
   "execution_count": 6,
   "id": "f76dd717-f385-42b8-b557-dc7fe67f7b74",
   "metadata": {},
   "outputs": [
    {
     "data": {
      "text/plain": [
       "array([2.07392977, 0.75635299, 1.48364189, 0.70015936, 1.30312337])"
      ]
     },
     "execution_count": 6,
     "metadata": {},
     "output_type": "execute_result"
    }
   ],
   "source": [
    "release_timescales"
   ]
  },
  {
   "cell_type": "markdown",
   "id": "e53c58d7-788b-4ce2-b4cf-34b1a1e03167",
   "metadata": {},
   "source": [
    "# Test with Arctic Vanilla\n",
    "\n",
    "First version using ``arctic`` library from PyPI"
   ]
  },
  {
   "cell_type": "code",
   "execution_count": 25,
   "id": "1a9d039f-ca2f-43a5-9a77-60714ec1cef3",
   "metadata": {},
   "outputs": [],
   "source": [
    "import arcticpy as ac\n",
    "\n",
    "\n",
    "def arctic_00(\n",
    "    detector,\n",
    "    well_fill_power: float,\n",
    "    density_1d: t.Sequence[float],\n",
    "    release_timescale_1d: t.Sequence[float],\n",
    "    express=0,\n",
    "):\n",
    "\n",
    "    char = detector.characteristics\n",
    "    image = detector.pixel.array\n",
    "    image = image.astype(float)\n",
    "    ccd = ac.CCD(well_fill_power=well_fill_power, full_well_depth=char.fwc)\n",
    "    roe = ac.ROE()\n",
    "\n",
    "    assert len(density_1d) == len(release_timescale_1d)\n",
    "    traps = []  # type: t.List[Trap]\n",
    "    for density, release_timescale in zip(density_1d, release_timescale_1d):\n",
    "        trap = ac.Trap(density=density, release_timescale=release_timescale)\n",
    "        traps.append(trap)\n",
    "\n",
    "    image_cti_added = ac.add_cti(\n",
    "        image=image,\n",
    "        parallel_traps=[trap],\n",
    "        parallel_ccd=ccd,\n",
    "        parallel_roe=roe,\n",
    "        parallel_express=express,\n",
    "    )\n",
    "\n",
    "    image_cti_removed = ac.remove_cti(\n",
    "        image=image_cti_added,\n",
    "        iterations=1,\n",
    "        parallel_traps=[trap],\n",
    "        parallel_ccd=ccd,\n",
    "        parallel_roe=roe,\n",
    "        parallel_express=express,\n",
    "    )\n",
    "\n",
    "    detector.pixel.array = image_cti_removed\n",
    "\n",
    "    return image_cti_removed"
   ]
  },
  {
   "cell_type": "markdown",
   "id": "d5258b7e-1817-409a-b405-d597ccbaa6c4",
   "metadata": {},
   "source": [
    "## Run for 1 trap"
   ]
  },
  {
   "cell_type": "code",
   "execution_count": 26,
   "id": "5dbac499-40fa-4c4d-bfd1-489cfeb13a4e",
   "metadata": {},
   "outputs": [
    {
     "name": "stdout",
     "output_type": "stream",
     "text": [
      "CPU times: user 34.7 s, sys: 103 ms, total: 34.8 s\n",
      "Wall time: 35 s\n"
     ]
    }
   ],
   "source": [
    "%%time\n",
    "\n",
    "result_arctic_vanilla_1_trap = arctic_00(\n",
    "    detector=detector,\n",
    "    well_fill_power=0.8, \n",
    "    density_1d=[100.0], \n",
    "    release_timescale_1d=[1.2], \n",
    "    express=0 \n",
    ")"
   ]
  },
  {
   "cell_type": "code",
   "execution_count": 9,
   "id": "63ad6254-edc9-4a16-8a31-607fcd548149",
   "metadata": {},
   "outputs": [
    {
     "ename": "KeyboardInterrupt",
     "evalue": "",
     "output_type": "error",
     "traceback": [
      "\u001b[0;31m---------------------------------------------------------------------------\u001b[0m",
      "\u001b[0;31mKeyboardInterrupt\u001b[0m                         Traceback (most recent call last)",
      "\u001b[0;32m/var/folders/by/j338dqxn3kl0j290lmdt02sngt4cd1/T/ipykernel_3637/1885192624.py\u001b[0m in \u001b[0;36m<module>\u001b[0;34m\u001b[0m\n\u001b[0;32m----> 1\u001b[0;31m \u001b[0mget_ipython\u001b[0m\u001b[0;34m(\u001b[0m\u001b[0;34m)\u001b[0m\u001b[0;34m.\u001b[0m\u001b[0mrun_cell_magic\u001b[0m\u001b[0;34m(\u001b[0m\u001b[0;34m'timeit'\u001b[0m\u001b[0;34m,\u001b[0m \u001b[0;34m''\u001b[0m\u001b[0;34m,\u001b[0m \u001b[0;34m'\\n# 12.9 s ± 572 ms per loop\\n_= arctic_00(\\n    detector=detector,\\n    well_fill_power=0.8, \\n    density_1d=[100.0], \\n    release_timescale_1d=[1.2], \\n    express=0 \\n)\\n'\u001b[0m\u001b[0;34m)\u001b[0m\u001b[0;34m\u001b[0m\u001b[0;34m\u001b[0m\u001b[0m\n\u001b[0m",
      "\u001b[0;32m/work/tools/miniconda3/envs/pyxel-dev/lib/python3.8/site-packages/IPython/core/interactiveshell.py\u001b[0m in \u001b[0;36mrun_cell_magic\u001b[0;34m(self, magic_name, line, cell)\u001b[0m\n\u001b[1;32m   2401\u001b[0m             \u001b[0;32mwith\u001b[0m \u001b[0mself\u001b[0m\u001b[0;34m.\u001b[0m\u001b[0mbuiltin_trap\u001b[0m\u001b[0;34m:\u001b[0m\u001b[0;34m\u001b[0m\u001b[0;34m\u001b[0m\u001b[0m\n\u001b[1;32m   2402\u001b[0m                 \u001b[0margs\u001b[0m \u001b[0;34m=\u001b[0m \u001b[0;34m(\u001b[0m\u001b[0mmagic_arg_s\u001b[0m\u001b[0;34m,\u001b[0m \u001b[0mcell\u001b[0m\u001b[0;34m)\u001b[0m\u001b[0;34m\u001b[0m\u001b[0;34m\u001b[0m\u001b[0m\n\u001b[0;32m-> 2403\u001b[0;31m                 \u001b[0mresult\u001b[0m \u001b[0;34m=\u001b[0m \u001b[0mfn\u001b[0m\u001b[0;34m(\u001b[0m\u001b[0;34m*\u001b[0m\u001b[0margs\u001b[0m\u001b[0;34m,\u001b[0m \u001b[0;34m**\u001b[0m\u001b[0mkwargs\u001b[0m\u001b[0;34m)\u001b[0m\u001b[0;34m\u001b[0m\u001b[0;34m\u001b[0m\u001b[0m\n\u001b[0m\u001b[1;32m   2404\u001b[0m             \u001b[0;32mreturn\u001b[0m \u001b[0mresult\u001b[0m\u001b[0;34m\u001b[0m\u001b[0;34m\u001b[0m\u001b[0m\n\u001b[1;32m   2405\u001b[0m \u001b[0;34m\u001b[0m\u001b[0m\n",
      "\u001b[0;32m<decorator-gen-53>\u001b[0m in \u001b[0;36mtimeit\u001b[0;34m(self, line, cell, local_ns)\u001b[0m\n",
      "\u001b[0;32m/work/tools/miniconda3/envs/pyxel-dev/lib/python3.8/site-packages/IPython/core/magic.py\u001b[0m in \u001b[0;36m<lambda>\u001b[0;34m(f, *a, **k)\u001b[0m\n\u001b[1;32m    185\u001b[0m     \u001b[0;31m# but it's overkill for just that one bit of state.\u001b[0m\u001b[0;34m\u001b[0m\u001b[0;34m\u001b[0m\u001b[0;34m\u001b[0m\u001b[0m\n\u001b[1;32m    186\u001b[0m     \u001b[0;32mdef\u001b[0m \u001b[0mmagic_deco\u001b[0m\u001b[0;34m(\u001b[0m\u001b[0marg\u001b[0m\u001b[0;34m)\u001b[0m\u001b[0;34m:\u001b[0m\u001b[0;34m\u001b[0m\u001b[0;34m\u001b[0m\u001b[0m\n\u001b[0;32m--> 187\u001b[0;31m         \u001b[0mcall\u001b[0m \u001b[0;34m=\u001b[0m \u001b[0;32mlambda\u001b[0m \u001b[0mf\u001b[0m\u001b[0;34m,\u001b[0m \u001b[0;34m*\u001b[0m\u001b[0ma\u001b[0m\u001b[0;34m,\u001b[0m \u001b[0;34m**\u001b[0m\u001b[0mk\u001b[0m\u001b[0;34m:\u001b[0m \u001b[0mf\u001b[0m\u001b[0;34m(\u001b[0m\u001b[0;34m*\u001b[0m\u001b[0ma\u001b[0m\u001b[0;34m,\u001b[0m \u001b[0;34m**\u001b[0m\u001b[0mk\u001b[0m\u001b[0;34m)\u001b[0m\u001b[0;34m\u001b[0m\u001b[0;34m\u001b[0m\u001b[0m\n\u001b[0m\u001b[1;32m    188\u001b[0m \u001b[0;34m\u001b[0m\u001b[0m\n\u001b[1;32m    189\u001b[0m         \u001b[0;32mif\u001b[0m \u001b[0mcallable\u001b[0m\u001b[0;34m(\u001b[0m\u001b[0marg\u001b[0m\u001b[0;34m)\u001b[0m\u001b[0;34m:\u001b[0m\u001b[0;34m\u001b[0m\u001b[0;34m\u001b[0m\u001b[0m\n",
      "\u001b[0;32m/work/tools/miniconda3/envs/pyxel-dev/lib/python3.8/site-packages/IPython/core/magics/execution.py\u001b[0m in \u001b[0;36mtimeit\u001b[0;34m(self, line, cell, local_ns)\u001b[0m\n\u001b[1;32m   1171\u001b[0m                     \u001b[0;32mbreak\u001b[0m\u001b[0;34m\u001b[0m\u001b[0;34m\u001b[0m\u001b[0m\n\u001b[1;32m   1172\u001b[0m \u001b[0;34m\u001b[0m\u001b[0m\n\u001b[0;32m-> 1173\u001b[0;31m         \u001b[0mall_runs\u001b[0m \u001b[0;34m=\u001b[0m \u001b[0mtimer\u001b[0m\u001b[0;34m.\u001b[0m\u001b[0mrepeat\u001b[0m\u001b[0;34m(\u001b[0m\u001b[0mrepeat\u001b[0m\u001b[0;34m,\u001b[0m \u001b[0mnumber\u001b[0m\u001b[0;34m)\u001b[0m\u001b[0;34m\u001b[0m\u001b[0;34m\u001b[0m\u001b[0m\n\u001b[0m\u001b[1;32m   1174\u001b[0m         \u001b[0mbest\u001b[0m \u001b[0;34m=\u001b[0m \u001b[0mmin\u001b[0m\u001b[0;34m(\u001b[0m\u001b[0mall_runs\u001b[0m\u001b[0;34m)\u001b[0m \u001b[0;34m/\u001b[0m \u001b[0mnumber\u001b[0m\u001b[0;34m\u001b[0m\u001b[0;34m\u001b[0m\u001b[0m\n\u001b[1;32m   1175\u001b[0m         \u001b[0mworst\u001b[0m \u001b[0;34m=\u001b[0m \u001b[0mmax\u001b[0m\u001b[0;34m(\u001b[0m\u001b[0mall_runs\u001b[0m\u001b[0;34m)\u001b[0m \u001b[0;34m/\u001b[0m \u001b[0mnumber\u001b[0m\u001b[0;34m\u001b[0m\u001b[0;34m\u001b[0m\u001b[0m\n",
      "\u001b[0;32m/work/tools/miniconda3/envs/pyxel-dev/lib/python3.8/timeit.py\u001b[0m in \u001b[0;36mrepeat\u001b[0;34m(self, repeat, number)\u001b[0m\n\u001b[1;32m    203\u001b[0m         \u001b[0mr\u001b[0m \u001b[0;34m=\u001b[0m \u001b[0;34m[\u001b[0m\u001b[0;34m]\u001b[0m\u001b[0;34m\u001b[0m\u001b[0;34m\u001b[0m\u001b[0m\n\u001b[1;32m    204\u001b[0m         \u001b[0;32mfor\u001b[0m \u001b[0mi\u001b[0m \u001b[0;32min\u001b[0m \u001b[0mrange\u001b[0m\u001b[0;34m(\u001b[0m\u001b[0mrepeat\u001b[0m\u001b[0;34m)\u001b[0m\u001b[0;34m:\u001b[0m\u001b[0;34m\u001b[0m\u001b[0;34m\u001b[0m\u001b[0m\n\u001b[0;32m--> 205\u001b[0;31m             \u001b[0mt\u001b[0m \u001b[0;34m=\u001b[0m \u001b[0mself\u001b[0m\u001b[0;34m.\u001b[0m\u001b[0mtimeit\u001b[0m\u001b[0;34m(\u001b[0m\u001b[0mnumber\u001b[0m\u001b[0;34m)\u001b[0m\u001b[0;34m\u001b[0m\u001b[0;34m\u001b[0m\u001b[0m\n\u001b[0m\u001b[1;32m    206\u001b[0m             \u001b[0mr\u001b[0m\u001b[0;34m.\u001b[0m\u001b[0mappend\u001b[0m\u001b[0;34m(\u001b[0m\u001b[0mt\u001b[0m\u001b[0;34m)\u001b[0m\u001b[0;34m\u001b[0m\u001b[0;34m\u001b[0m\u001b[0m\n\u001b[1;32m    207\u001b[0m         \u001b[0;32mreturn\u001b[0m \u001b[0mr\u001b[0m\u001b[0;34m\u001b[0m\u001b[0;34m\u001b[0m\u001b[0m\n",
      "\u001b[0;32m/work/tools/miniconda3/envs/pyxel-dev/lib/python3.8/site-packages/IPython/core/magics/execution.py\u001b[0m in \u001b[0;36mtimeit\u001b[0;34m(self, number)\u001b[0m\n\u001b[1;32m    167\u001b[0m         \u001b[0mgc\u001b[0m\u001b[0;34m.\u001b[0m\u001b[0mdisable\u001b[0m\u001b[0;34m(\u001b[0m\u001b[0;34m)\u001b[0m\u001b[0;34m\u001b[0m\u001b[0;34m\u001b[0m\u001b[0m\n\u001b[1;32m    168\u001b[0m         \u001b[0;32mtry\u001b[0m\u001b[0;34m:\u001b[0m\u001b[0;34m\u001b[0m\u001b[0;34m\u001b[0m\u001b[0m\n\u001b[0;32m--> 169\u001b[0;31m             \u001b[0mtiming\u001b[0m \u001b[0;34m=\u001b[0m \u001b[0mself\u001b[0m\u001b[0;34m.\u001b[0m\u001b[0minner\u001b[0m\u001b[0;34m(\u001b[0m\u001b[0mit\u001b[0m\u001b[0;34m,\u001b[0m \u001b[0mself\u001b[0m\u001b[0;34m.\u001b[0m\u001b[0mtimer\u001b[0m\u001b[0;34m)\u001b[0m\u001b[0;34m\u001b[0m\u001b[0;34m\u001b[0m\u001b[0m\n\u001b[0m\u001b[1;32m    170\u001b[0m         \u001b[0;32mfinally\u001b[0m\u001b[0;34m:\u001b[0m\u001b[0;34m\u001b[0m\u001b[0;34m\u001b[0m\u001b[0m\n\u001b[1;32m    171\u001b[0m             \u001b[0;32mif\u001b[0m \u001b[0mgcold\u001b[0m\u001b[0;34m:\u001b[0m\u001b[0;34m\u001b[0m\u001b[0;34m\u001b[0m\u001b[0m\n",
      "\u001b[0;32m<magic-timeit>\u001b[0m in \u001b[0;36minner\u001b[0;34m(_it, _timer)\u001b[0m\n",
      "\u001b[0;32m/var/folders/by/j338dqxn3kl0j290lmdt02sngt4cd1/T/ipykernel_3637/3984235905.py\u001b[0m in \u001b[0;36marctic_00\u001b[0;34m(detector, well_fill_power, density_1d, release_timescale_1d, express)\u001b[0m\n\u001b[1;32m     30\u001b[0m     )\n\u001b[1;32m     31\u001b[0m \u001b[0;34m\u001b[0m\u001b[0m\n\u001b[0;32m---> 32\u001b[0;31m     image_cti_removed = ac.remove_cti(\n\u001b[0m\u001b[1;32m     33\u001b[0m         \u001b[0mimage\u001b[0m\u001b[0;34m=\u001b[0m\u001b[0mimage_cti_added\u001b[0m\u001b[0;34m,\u001b[0m\u001b[0;34m\u001b[0m\u001b[0;34m\u001b[0m\u001b[0m\n\u001b[1;32m     34\u001b[0m         \u001b[0miterations\u001b[0m\u001b[0;34m=\u001b[0m\u001b[0;36m5\u001b[0m\u001b[0;34m,\u001b[0m\u001b[0;34m\u001b[0m\u001b[0;34m\u001b[0m\u001b[0m\n",
      "\u001b[0;32m/work/tools/miniconda3/envs/pyxel-dev/lib/python3.8/site-packages/arcticpy/main.py\u001b[0m in \u001b[0;36mremove_cti\u001b[0;34m(image, iterations, parallel_ccd, parallel_roe, parallel_traps, parallel_express, parallel_offset, parallel_window_range, serial_ccd, serial_roe, serial_traps, serial_express, serial_offset, serial_window_range, time_window_range)\u001b[0m\n\u001b[1;32m    514\u001b[0m     \u001b[0;32mfor\u001b[0m \u001b[0miteration\u001b[0m \u001b[0;32min\u001b[0m \u001b[0mrange\u001b[0m\u001b[0;34m(\u001b[0m\u001b[0miterations\u001b[0m\u001b[0;34m)\u001b[0m\u001b[0;34m:\u001b[0m\u001b[0;34m\u001b[0m\u001b[0;34m\u001b[0m\u001b[0m\n\u001b[1;32m    515\u001b[0m \u001b[0;34m\u001b[0m\u001b[0m\n\u001b[0;32m--> 516\u001b[0;31m         image_add_cti = add_cti(\n\u001b[0m\u001b[1;32m    517\u001b[0m             \u001b[0mimage\u001b[0m\u001b[0;34m=\u001b[0m\u001b[0mimage_remove_cti\u001b[0m\u001b[0;34m,\u001b[0m\u001b[0;34m\u001b[0m\u001b[0;34m\u001b[0m\u001b[0m\n\u001b[1;32m    518\u001b[0m             \u001b[0mparallel_ccd\u001b[0m\u001b[0;34m=\u001b[0m\u001b[0mparallel_ccd\u001b[0m\u001b[0;34m,\u001b[0m\u001b[0;34m\u001b[0m\u001b[0;34m\u001b[0m\u001b[0m\n",
      "\u001b[0;32m/work/tools/miniconda3/envs/pyxel-dev/lib/python3.8/site-packages/arcticpy/main.py\u001b[0m in \u001b[0;36madd_cti\u001b[0;34m(image, parallel_ccd, parallel_roe, parallel_traps, parallel_express, parallel_offset, parallel_window_range, serial_ccd, serial_roe, serial_traps, serial_express, serial_offset, serial_window_range, time_window_range)\u001b[0m\n\u001b[1;32m    420\u001b[0m \u001b[0;34m\u001b[0m\u001b[0m\n\u001b[1;32m    421\u001b[0m         \u001b[0;31m# Transfer charge in parallel direction\u001b[0m\u001b[0;34m\u001b[0m\u001b[0;34m\u001b[0m\u001b[0;34m\u001b[0m\u001b[0m\n\u001b[0;32m--> 422\u001b[0;31m         image_add_cti = _clock_charge_in_one_direction(\n\u001b[0m\u001b[1;32m    423\u001b[0m             \u001b[0mimage\u001b[0m\u001b[0;34m=\u001b[0m\u001b[0mimage_add_cti\u001b[0m\u001b[0;34m,\u001b[0m\u001b[0;34m\u001b[0m\u001b[0;34m\u001b[0m\u001b[0m\n\u001b[1;32m    424\u001b[0m             \u001b[0mccd\u001b[0m\u001b[0;34m=\u001b[0m\u001b[0mparallel_ccd\u001b[0m\u001b[0;34m,\u001b[0m\u001b[0;34m\u001b[0m\u001b[0;34m\u001b[0m\u001b[0m\n",
      "\u001b[0;32m/work/tools/miniconda3/envs/pyxel-dev/lib/python3.8/site-packages/arcticpy/main.py\u001b[0m in \u001b[0;36m_clock_charge_in_one_direction\u001b[0;34m(image, roe, ccd, traps, express, offset, window_row_range, window_column_range, time_window_range)\u001b[0m\n\u001b[1;32m    215\u001b[0m                         \u001b[0mn_electrons_released_and_captured\u001b[0m \u001b[0;34m=\u001b[0m \u001b[0;36m0\u001b[0m\u001b[0;34m\u001b[0m\u001b[0;34m\u001b[0m\u001b[0m\n\u001b[1;32m    216\u001b[0m                         \u001b[0;32mfor\u001b[0m \u001b[0mtrap_manager\u001b[0m \u001b[0;32min\u001b[0m \u001b[0mtrap_managers\u001b[0m\u001b[0;34m[\u001b[0m\u001b[0mphase\u001b[0m\u001b[0;34m]\u001b[0m\u001b[0;34m:\u001b[0m\u001b[0;34m\u001b[0m\u001b[0;34m\u001b[0m\u001b[0m\n\u001b[0;32m--> 217\u001b[0;31m                             n_electrons_released_and_captured += trap_manager.n_electrons_released_and_captured(\n\u001b[0m\u001b[1;32m    218\u001b[0m                                 \u001b[0mn_free_electrons\u001b[0m\u001b[0;34m=\u001b[0m\u001b[0mn_free_electrons\u001b[0m\u001b[0;34m,\u001b[0m\u001b[0;34m\u001b[0m\u001b[0;34m\u001b[0m\u001b[0m\n\u001b[1;32m    219\u001b[0m                                 \u001b[0mdwell_time\u001b[0m\u001b[0;34m=\u001b[0m\u001b[0mroe\u001b[0m\u001b[0;34m.\u001b[0m\u001b[0mdwell_times\u001b[0m\u001b[0;34m[\u001b[0m\u001b[0mclocking_step\u001b[0m\u001b[0;34m]\u001b[0m\u001b[0;34m,\u001b[0m\u001b[0;34m\u001b[0m\u001b[0;34m\u001b[0m\u001b[0m\n",
      "\u001b[0;32m/work/tools/miniconda3/envs/pyxel-dev/lib/python3.8/site-packages/arcticpy/trap_managers.py\u001b[0m in \u001b[0;36mn_electrons_released_and_captured\u001b[0;34m(self, n_free_electrons, ccd_filling_function, dwell_time, express_multiplier)\u001b[0m\n\u001b[1;32m    788\u001b[0m                 \u001b[0mwatermark_index_above_cloud\u001b[0m\u001b[0;34m,\u001b[0m\u001b[0;34m\u001b[0m\u001b[0;34m\u001b[0m\u001b[0m\n\u001b[1;32m    789\u001b[0m                 \u001b[0mmax_watermark_index\u001b[0m\u001b[0;34m,\u001b[0m\u001b[0;34m\u001b[0m\u001b[0;34m\u001b[0m\u001b[0m\n\u001b[0;32m--> 790\u001b[0;31m             \u001b[0;34m)\u001b[0m \u001b[0;34m=\u001b[0m \u001b[0mself\u001b[0m\u001b[0;34m.\u001b[0m\u001b[0m_n_electrons_released_and_captured__cloud_below_watermarks\u001b[0m\u001b[0;34m(\u001b[0m\u001b[0;34m\u001b[0m\u001b[0;34m\u001b[0m\u001b[0m\n\u001b[0m\u001b[1;32m    791\u001b[0m                 \u001b[0mn_free_electrons\u001b[0m\u001b[0;34m,\u001b[0m\u001b[0;34m\u001b[0m\u001b[0;34m\u001b[0m\u001b[0m\n\u001b[1;32m    792\u001b[0m                 \u001b[0mcloud_fractional_volume\u001b[0m\u001b[0;34m,\u001b[0m\u001b[0;34m\u001b[0m\u001b[0;34m\u001b[0m\u001b[0m\n",
      "\u001b[0;32m/work/tools/miniconda3/envs/pyxel-dev/lib/python3.8/site-packages/arcticpy/trap_managers.py\u001b[0m in \u001b[0;36m_n_electrons_released_and_captured__cloud_below_watermarks\u001b[0;34m(self, n_free_electrons, cloud_fractional_volume, watermarks_initial, watermark_index_above_cloud, max_watermark_index, fill_probabilities_from_release, n_trapped_electrons_initial, ccd_filling_function)\u001b[0m\n\u001b[1;32m    670\u001b[0m                 \u001b[0mwatermark_index_above_cloud\u001b[0m\u001b[0;34m=\u001b[0m\u001b[0mwatermark_index_above_cloud\u001b[0m\u001b[0;34m,\u001b[0m\u001b[0;34m\u001b[0m\u001b[0;34m\u001b[0m\u001b[0m\n\u001b[1;32m    671\u001b[0m             )\n\u001b[0;32m--> 672\u001b[0;31m             watermarks_initial = self.update_watermark_volumes_for_cloud_below_highest(\n\u001b[0m\u001b[1;32m    673\u001b[0m                 \u001b[0mwatermarks\u001b[0m\u001b[0;34m=\u001b[0m\u001b[0mwatermarks_initial\u001b[0m\u001b[0;34m,\u001b[0m\u001b[0;34m\u001b[0m\u001b[0;34m\u001b[0m\u001b[0m\n\u001b[1;32m    674\u001b[0m                 \u001b[0mcloud_fractional_volume\u001b[0m\u001b[0;34m=\u001b[0m\u001b[0mcloud_fractional_volume\u001b[0m\u001b[0;34m,\u001b[0m\u001b[0;34m\u001b[0m\u001b[0;34m\u001b[0m\u001b[0m\n",
      "\u001b[0;32m/work/tools/miniconda3/envs/pyxel-dev/lib/python3.8/site-packages/arcticpy/trap_managers.py\u001b[0m in \u001b[0;36mupdate_watermark_volumes_for_cloud_below_highest\u001b[0;34m(self, watermarks, cloud_fractional_volume, watermark_index_above_cloud)\u001b[0m\n\u001b[1;32m    420\u001b[0m \u001b[0;34m\u001b[0m\u001b[0m\n\u001b[1;32m    421\u001b[0m         \u001b[0;31m# Move one new empty watermark to the start of the list\u001b[0m\u001b[0;34m\u001b[0m\u001b[0;34m\u001b[0m\u001b[0;34m\u001b[0m\u001b[0m\n\u001b[0;32m--> 422\u001b[0;31m         \u001b[0mwatermarks\u001b[0m \u001b[0;34m=\u001b[0m \u001b[0mnp\u001b[0m\u001b[0;34m.\u001b[0m\u001b[0mroll\u001b[0m\u001b[0;34m(\u001b[0m\u001b[0mwatermarks\u001b[0m\u001b[0;34m,\u001b[0m \u001b[0;36m1\u001b[0m\u001b[0;34m,\u001b[0m \u001b[0maxis\u001b[0m\u001b[0;34m=\u001b[0m\u001b[0;36m0\u001b[0m\u001b[0;34m)\u001b[0m\u001b[0;34m\u001b[0m\u001b[0;34m\u001b[0m\u001b[0m\n\u001b[0m\u001b[1;32m    423\u001b[0m \u001b[0;34m\u001b[0m\u001b[0m\n\u001b[1;32m    424\u001b[0m         \u001b[0;31m# Re-set the relevant watermarks near the start of the list\u001b[0m\u001b[0;34m\u001b[0m\u001b[0;34m\u001b[0m\u001b[0;34m\u001b[0m\u001b[0m\n",
      "\u001b[0;32m<__array_function__ internals>\u001b[0m in \u001b[0;36mroll\u001b[0;34m(*args, **kwargs)\u001b[0m\n",
      "\u001b[0;32m/work/tools/miniconda3/envs/pyxel-dev/lib/python3.8/site-packages/numpy/core/numeric.py\u001b[0m in \u001b[0;36mroll\u001b[0;34m(a, shift, axis)\u001b[0m\n\u001b[1;32m   1215\u001b[0m     \u001b[0;32melse\u001b[0m\u001b[0;34m:\u001b[0m\u001b[0;34m\u001b[0m\u001b[0;34m\u001b[0m\u001b[0m\n\u001b[1;32m   1216\u001b[0m         \u001b[0maxis\u001b[0m \u001b[0;34m=\u001b[0m \u001b[0mnormalize_axis_tuple\u001b[0m\u001b[0;34m(\u001b[0m\u001b[0maxis\u001b[0m\u001b[0;34m,\u001b[0m \u001b[0ma\u001b[0m\u001b[0;34m.\u001b[0m\u001b[0mndim\u001b[0m\u001b[0;34m,\u001b[0m \u001b[0mallow_duplicate\u001b[0m\u001b[0;34m=\u001b[0m\u001b[0;32mTrue\u001b[0m\u001b[0;34m)\u001b[0m\u001b[0;34m\u001b[0m\u001b[0;34m\u001b[0m\u001b[0m\n\u001b[0;32m-> 1217\u001b[0;31m         \u001b[0mbroadcasted\u001b[0m \u001b[0;34m=\u001b[0m \u001b[0mbroadcast\u001b[0m\u001b[0;34m(\u001b[0m\u001b[0mshift\u001b[0m\u001b[0;34m,\u001b[0m \u001b[0maxis\u001b[0m\u001b[0;34m)\u001b[0m\u001b[0;34m\u001b[0m\u001b[0;34m\u001b[0m\u001b[0m\n\u001b[0m\u001b[1;32m   1218\u001b[0m         \u001b[0;32mif\u001b[0m \u001b[0mbroadcasted\u001b[0m\u001b[0;34m.\u001b[0m\u001b[0mndim\u001b[0m \u001b[0;34m>\u001b[0m \u001b[0;36m1\u001b[0m\u001b[0;34m:\u001b[0m\u001b[0;34m\u001b[0m\u001b[0;34m\u001b[0m\u001b[0m\n\u001b[1;32m   1219\u001b[0m             raise ValueError(\n",
      "\u001b[0;31mKeyboardInterrupt\u001b[0m: "
     ]
    }
   ],
   "source": [
    "%%timeit\n",
    "\n",
    "# 12.9 s ± 572 ms per loop\n",
    "_= arctic_00(\n",
    "    detector=detector,\n",
    "    well_fill_power=0.8, \n",
    "    density_1d=[100.0], \n",
    "    release_timescale_1d=[1.2], \n",
    "    express=0 \n",
    ")"
   ]
  },
  {
   "cell_type": "markdown",
   "id": "18b8f7f7-899a-4da7-8ec6-8dfa661666f5",
   "metadata": {},
   "source": [
    "## Run for 5 traps"
   ]
  },
  {
   "cell_type": "code",
   "execution_count": 27,
   "id": "13739abe-a6b7-4552-9179-f93630644d0a",
   "metadata": {},
   "outputs": [
    {
     "name": "stdout",
     "output_type": "stream",
     "text": [
      "CPU times: user 37.6 s, sys: 118 ms, total: 37.7 s\n",
      "Wall time: 37.9 s\n"
     ]
    }
   ],
   "source": [
    "%%time\n",
    "\n",
    "result_arctic_vanilla_5_traps = arctic_00(\n",
    "    detector=detector,\n",
    "    well_fill_power=0.8, \n",
    "    density_1d=densities, \n",
    "    release_timescale_1d=release_timescales, \n",
    "    express=0 \n",
    ")"
   ]
  },
  {
   "cell_type": "code",
   "execution_count": null,
   "id": "03b816ed-0eb1-47ba-9ab2-69615b7e5d1a",
   "metadata": {},
   "outputs": [],
   "source": [
    "%%timeit\n",
    "\n",
    "# 16.7 s ± 247 ms per loop\n",
    "_ = arctic_00(\n",
    "    detector=detector,\n",
    "    well_fill_power=0.8, \n",
    "    density_1d=densities, \n",
    "    release_timescale_1d=release_timescales, \n",
    "    express=0 \n",
    ")"
   ]
  },
  {
   "cell_type": "markdown",
   "id": "8ea34bde-eab5-4cb4-b81d-b85fa74dcdaf",
   "metadata": {},
   "source": [
    "# Arctic extracted without numba\n",
    "\n",
    "First version with a modified `arctic` library"
   ]
  },
  {
   "cell_type": "code",
   "execution_count": 12,
   "id": "adf31748-e236-42b8-86e8-5f86909ee0b2",
   "metadata": {},
   "outputs": [],
   "source": [
    "from arctic_without_numba import CCD as CCD_no_numba\n",
    "from arctic_without_numba import ROE as ROE_no_numba\n",
    "from arctic_without_numba import TrapsInstantCapture as TrapsInstantCapture_no_numba\n",
    "from arctic_without_numba import add_cti as add_cti_no_numba\n",
    "from arctic_without_numba import remove_cti as remove_cti_no_numba"
   ]
  },
  {
   "cell_type": "code",
   "execution_count": 28,
   "id": "66a3d581-51eb-487d-b02c-5caacc58859e",
   "metadata": {},
   "outputs": [],
   "source": [
    "def arctic_01(\n",
    "    detector,\n",
    "    well_fill_power: float,\n",
    "    density_1d: t.Sequence[float],\n",
    "    release_timescale_1d: t.Sequence[float],\n",
    "    express=0,\n",
    "):\n",
    "\n",
    "    char = detector.characteristics\n",
    "    image_2d = detector.pixel.array\n",
    "    image_2d = image_2d.astype(float)\n",
    "\n",
    "    ccd = CCD_no_numba(\n",
    "        n_phases=1,\n",
    "        fraction_of_traps_per_phase=np.array([1.0], dtype=np.float64),\n",
    "        full_well_depth=np.array([char.fwc], dtype=np.float64),\n",
    "        well_notch_depth=np.array([0.0], dtype=np.float64),\n",
    "        well_fill_power=np.array([well_fill_power], dtype=np.float64),\n",
    "        well_bloom_level=np.array([char.fwc], dtype=np.float64),\n",
    "    )\n",
    "\n",
    "    parallel_roe = ROE_no_numba(dwell_times=np.array([1.0], dtype=np.float64))\n",
    "    # serial_roe = ROE(dwell_times=np.array([1.0], dtype=np.float64))\n",
    "    # trap = Trap(density=density, release_timescale=release_timescale)\n",
    "\n",
    "    # Create the trap(s)\n",
    "    n_traps = len(density_1d)\n",
    "    traps = TrapsInstantCapture_no_numba(\n",
    "        density_1d=density_1d,\n",
    "        release_timescale_1d=release_timescale_1d,\n",
    "        surface_1d=np.array([False] * n_traps, dtype=np.bool_),\n",
    "    )\n",
    "\n",
    "    traps_lst = []\n",
    "    traps_lst.append(traps)\n",
    "\n",
    "    image_cti_added = add_cti_no_numba(\n",
    "        image_2d=image_2d,\n",
    "        parallel_traps=traps_lst,\n",
    "        parallel_ccd=ccd,\n",
    "        parallel_roe=parallel_roe,\n",
    "        parallel_express=express,\n",
    "        # serial_roe=serial_roe,\n",
    "    )\n",
    "\n",
    "    image_cti_removed = remove_cti_no_numba(\n",
    "        image_2d=image_cti_added,\n",
    "        iterations=1,\n",
    "        parallel_traps=traps_lst,\n",
    "        parallel_ccd=ccd,\n",
    "        parallel_roe=parallel_roe,\n",
    "        parallel_express=express,\n",
    "        # serial_roe=serial_roe,\n",
    "    )\n",
    "\n",
    "    return image_cti_removed"
   ]
  },
  {
   "cell_type": "markdown",
   "id": "a621119e-de16-4bb0-82d4-0754054ee09f",
   "metadata": {},
   "source": [
    "## Run for 1 trap"
   ]
  },
  {
   "cell_type": "code",
   "execution_count": 29,
   "id": "be9e094c-f4ea-40ce-9bdb-fd6c27a02fd5",
   "metadata": {},
   "outputs": [
    {
     "name": "stderr",
     "output_type": "stream",
     "text": [
      "/System/Volumes/Data/work/sw/pyxel/pyxel/models/charge_transfer/arctic_without_numba.py:948: RuntimeWarning: divide by zero encountered in true_divide\n",
      "  self.capture_rate_1d = 1.0 / self.capture_timescale_1d  # type: np.ndarray\n",
      "/System/Volumes/Data/work/sw/pyxel/pyxel/models/charge_transfer/arctic_without_numba.py:1164: RuntimeWarning: invalid value encountered in multiply\n",
      "  fill_probabilities_from_empty_1d = self.capture_rates_1d * exponential_factor\n"
     ]
    },
    {
     "name": "stdout",
     "output_type": "stream",
     "text": [
      "CPU times: user 22.5 s, sys: 146 ms, total: 22.7 s\n",
      "Wall time: 23.1 s\n"
     ]
    }
   ],
   "source": [
    "%%time\n",
    "\n",
    "result_arctic_no_numba_1_trap = arctic_01(\n",
    "    detector=detector,\n",
    "    well_fill_power=0.8, \n",
    "    density_1d=np.array([100.0]), \n",
    "    release_timescale_1d=np.array([1.2]), \n",
    "    express=0 \n",
    ")"
   ]
  },
  {
   "cell_type": "code",
   "execution_count": null,
   "id": "531b357e-8145-46e1-a5e5-e54619c86200",
   "metadata": {},
   "outputs": [],
   "source": [
    "%%timeit\n",
    "\n",
    "# 8.11 s ± 132 ms per loop\n",
    "_ = arctic_01(\n",
    "    detector=detector,\n",
    "    well_fill_power=0.8, \n",
    "    density_1d=np.array([100.0]), \n",
    "    release_timescale_1d=np.array([1.2]), \n",
    "    express=0 \n",
    ")"
   ]
  },
  {
   "cell_type": "markdown",
   "id": "ba1eb154-3bef-4292-8274-9469baa57e22",
   "metadata": {},
   "source": [
    "## Run for 5 traps"
   ]
  },
  {
   "cell_type": "code",
   "execution_count": null,
   "id": "214f8b4d-6e4c-403a-b957-759d61c26a67",
   "metadata": {},
   "outputs": [],
   "source": [
    "%%time\n",
    "\n",
    "result_arctic_no_numba_5_traps = arctic_01(\n",
    "    detector=detector,\n",
    "    well_fill_power=0.8, \n",
    "    density_1d=densities, \n",
    "    release_timescale_1d=release_timescales, \n",
    "    express=0 \n",
    ")"
   ]
  },
  {
   "cell_type": "code",
   "execution_count": null,
   "id": "edcec07a-61fc-4f9a-abc9-bab7dd85c521",
   "metadata": {},
   "outputs": [],
   "source": [
    "%%timeit\n",
    "\n",
    "# 11 s ± 262 ms per loop\n",
    "_ = arctic_01(\n",
    "    detector=detector,\n",
    "    well_fill_power=0.8, \n",
    "    density_1d=densities, \n",
    "    release_timescale_1d=release_timescales, \n",
    "    express=0 \n",
    ")"
   ]
  },
  {
   "cell_type": "markdown",
   "id": "0d36357d-ef84-497b-8659-aa586d2eba36",
   "metadata": {},
   "source": [
    "## Comparison with vanilla arctic"
   ]
  },
  {
   "cell_type": "code",
   "execution_count": null,
   "id": "8374590a-0a31-475f-a5d7-aa9dddc49f65",
   "metadata": {},
   "outputs": [],
   "source": [
    "# Compare results from vanilla 'arctic' and this 'arctic'\n",
    "np.testing.assert_equal(result_arctic_vanilla_1_trap, result_arctic_no_numba_1_trap)\n",
    "np.testing.assert_equal(result_arctic_vanilla_5_traps, result_arctic_no_numba_5_traps)"
   ]
  },
  {
   "cell_type": "markdown",
   "id": "0eaece32-12ef-4de6-88ca-c3f8f117f648",
   "metadata": {},
   "source": [
    "# Arctic with numba\n"
   ]
  },
  {
   "cell_type": "code",
   "execution_count": 18,
   "id": "e7559ed7-06c1-4492-9e1e-a8140a7c419c",
   "metadata": {},
   "outputs": [],
   "source": [
    "from arctic_with_numba_02 import CCD as CCD_numba\n",
    "from arctic_with_numba_02 import ROE as ROE_numba\n",
    "from arctic_with_numba_02 import TrapsInstantCapture as TrapsInstantCapture_numba\n",
    "from arctic_with_numba_02 import add_cti as add_cti_numba\n",
    "from arctic_with_numba_02 import remove_cti as remove_cti_numba\n",
    "\n",
    "from numba.typed import List"
   ]
  },
  {
   "cell_type": "code",
   "execution_count": 21,
   "id": "f64cfe9c-602b-4416-bc92-05b53fcceba9",
   "metadata": {},
   "outputs": [],
   "source": [
    "def arctic_02(\n",
    "    detector,\n",
    "    well_fill_power: float,\n",
    "    density_1d: t.Sequence[float],\n",
    "    release_timescale_1d: t.Sequence[float],\n",
    "    express=0,\n",
    "):\n",
    "\n",
    "    char = detector.characteristics\n",
    "    image_2d = detector.pixel.array\n",
    "    image_2d = image_2d.astype(float)\n",
    "\n",
    "    ccd = CCD_numba(\n",
    "        n_phases=1,\n",
    "        fraction_of_traps_per_phase=np.array([1.0], dtype=np.float64),\n",
    "        full_well_depth=np.array([char.fwc], dtype=np.float64),\n",
    "        well_notch_depth=np.array([0.0], dtype=np.float64),\n",
    "        well_fill_power=np.array([well_fill_power], dtype=np.float64),\n",
    "        well_bloom_level=np.array([char.fwc], dtype=np.float64),\n",
    "    )\n",
    "\n",
    "    parallel_roe = ROE_numba(dwell_times=np.array([1.0], dtype=np.float64))\n",
    "    # serial_roe = ROE(dwell_times=np.array([1.0], dtype=np.float64))\n",
    "    # trap = Trap(density=density, release_timescale=release_timescale)\n",
    "\n",
    "    # Create the trap(s)\n",
    "    n_traps = len(density_1d)\n",
    "    traps = TrapsInstantCapture_numba(\n",
    "        density_1d=density_1d,\n",
    "        release_timescale_1d=release_timescale_1d,\n",
    "        surface_1d=np.array([False] * n_traps, dtype=np.bool_),\n",
    "    )\n",
    "\n",
    "    traps_lst = List()\n",
    "    traps_lst.append(traps)\n",
    "\n",
    "    image_cti_added = add_cti_numba(\n",
    "        image_2d=image_2d,\n",
    "        parallel_traps=traps_lst,\n",
    "        parallel_ccd=ccd,\n",
    "        parallel_roe=parallel_roe,\n",
    "        parallel_express=express,\n",
    "        # serial_roe=serial_roe,\n",
    "    )\n",
    "\n",
    "    image_cti_removed = remove_cti_numba(\n",
    "        image_2d=image_cti_added,\n",
    "        iterations=5,\n",
    "        parallel_traps=traps_lst,\n",
    "        parallel_ccd=ccd,\n",
    "        parallel_roe=parallel_roe,\n",
    "        parallel_express=express,\n",
    "        # serial_roe=serial_roe,\n",
    "    )\n",
    "    return image_cti_removed"
   ]
  },
  {
   "cell_type": "markdown",
   "id": "1f91d240-4b73-4e48-a2db-1ae01c6992a4",
   "metadata": {},
   "source": [
    "## Run for 1 trap"
   ]
  },
  {
   "cell_type": "code",
   "execution_count": 23,
   "id": "6b996581-8db8-4f14-b5b2-de273732a311",
   "metadata": {},
   "outputs": [
    {
     "name": "stdout",
     "output_type": "stream",
     "text": [
      "CPU times: user 6.55 s, sys: 43.7 ms, total: 6.59 s\n",
      "Wall time: 6.56 s\n"
     ]
    }
   ],
   "source": [
    "%%time\n",
    "\n",
    "result_arctic_with_numba_1_trap = arctic_02(\n",
    "    detector=detector,\n",
    "    well_fill_power=0.8, \n",
    "    density_1d=np.array([100.0], dtype=np.float64), \n",
    "    release_timescale_1d=np.array([1.2], dtype=np.float64), \n",
    "    express=0 \n",
    ")"
   ]
  },
  {
   "cell_type": "code",
   "execution_count": null,
   "id": "2befd3c4-0734-4d1e-be11-fc9b1bc010a4",
   "metadata": {},
   "outputs": [],
   "source": [
    "%%timeit\n",
    "\n",
    "# 790 ms ± 35.3 ms per loop\n",
    "_ = arctic_02(\n",
    "    detector=detector,\n",
    "    well_fill_power=0.8, \n",
    "    density_1d=np.array([100.0]), \n",
    "    release_timescale_1d=np.array([1.2]), \n",
    "    express=0 \n",
    ")"
   ]
  },
  {
   "cell_type": "markdown",
   "id": "c3a541fb-e540-47de-8243-3aca4fdc5e30",
   "metadata": {},
   "source": [
    "## Run for 5 traps"
   ]
  },
  {
   "cell_type": "code",
   "execution_count": null,
   "id": "c057b324-2861-4da2-b29f-c72924c972cb",
   "metadata": {},
   "outputs": [],
   "source": [
    "%%time\n",
    "\n",
    "result_arctic_with_numba_5_traps = arctic_02(\n",
    "    detector=detector,\n",
    "    well_fill_power=0.8, \n",
    "    density_1d=densities, \n",
    "    release_timescale_1d=release_timescales, \n",
    "    express=0 \n",
    ")"
   ]
  },
  {
   "cell_type": "code",
   "execution_count": null,
   "id": "aa6fe320-ba9f-4b25-a312-cb680f7390ad",
   "metadata": {},
   "outputs": [],
   "source": [
    "%%timeit\n",
    "\n",
    "# 1.85 s ± 59.1 ms per loop\n",
    "_ = arctic_02(\n",
    "    detector=detector,\n",
    "    well_fill_power=0.8, \n",
    "    density_1d=densities, \n",
    "    release_timescale_1d=release_timescales, \n",
    "    express=0 \n",
    ")"
   ]
  },
  {
   "cell_type": "markdown",
   "id": "6fa6825b-303f-425e-9ced-64fbb49d8589",
   "metadata": {},
   "source": [
    "## Comparison with vanilla arctic"
   ]
  },
  {
   "cell_type": "code",
   "execution_count": null,
   "id": "2503b475-b832-4d40-9d0c-16a2c62f0d61",
   "metadata": {},
   "outputs": [],
   "source": [
    "# Compare results from vanilla 'arctic' and this 'arctic'\n",
    "np.testing.assert_almost_equal(\n",
    "    result_arctic_vanilla_1_trap, result_arctic_with_numba_1_trap\n",
    ")\n",
    "np.testing.assert_almost_equal(\n",
    "    result_arctic_vanilla_5_traps, result_arctic_with_numba_5_traps\n",
    ")"
   ]
  },
  {
   "cell_type": "markdown",
   "id": "fc9bdf80-3bc0-4f4a-bc4e-d8dde41166a9",
   "metadata": {},
   "source": [
    "**Comparison with 1 Trap**\n",
    "\n",
    "\n",
    "| Model           |  Time  | Speedup |\n",
    "| --------------- |:------:| -------:| \n",
    "| Vanilla Arctic  | 12.9 s |  16.3x  |\n",
    "| No Numba Arctic | 8.11 s |  10.3x  |\n",
    "| Numba Arctic    | 790 ms |  1x     |\n",
    "\n",
    "\n",
    "**Comparison with 5 Traps**\n",
    "\n",
    "\n",
    "| Model           |  Time  | Speedup |\n",
    "| --------------- |:------:| -------:| \n",
    "| Vanilla Arctic  | 16.7 s |  9x  |\n",
    "| No Numba Arctic | 11.0 s |  5.9x  |\n",
    "| Numba Arctic    | 1.86 s |  1x     |"
   ]
  },
  {
   "cell_type": "code",
   "execution_count": null,
   "id": "3686401d-8ae5-4a68-90a1-8d2834d2a3aa",
   "metadata": {},
   "outputs": [],
   "source": []
  }
 ],
 "metadata": {
  "kernelspec": {
   "display_name": "Python 3 (ipykernel)",
   "language": "python",
   "name": "python3"
  },
  "language_info": {
   "codemirror_mode": {
    "name": "ipython",
    "version": 3
   },
   "file_extension": ".py",
   "mimetype": "text/x-python",
   "name": "python",
   "nbconvert_exporter": "python",
   "pygments_lexer": "ipython3",
   "version": "3.8.10"
  },
  "toc-autonumbering": true
 },
 "nbformat": 4,
 "nbformat_minor": 5
}
