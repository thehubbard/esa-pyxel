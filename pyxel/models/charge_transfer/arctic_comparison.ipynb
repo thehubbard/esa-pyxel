{
 "cells": [
  {
   "cell_type": "raw",
   "id": "824f3815-ba86-4558-8316-650fa5ff7dbc",
   "metadata": {},
   "source": [
    "!pip install \"pynufft==2020.1.2\""
   ]
  },
  {
   "cell_type": "code",
   "execution_count": 1,
   "id": "57175cda-3718-4961-86d5-4e57c8d574e9",
   "metadata": {},
   "outputs": [],
   "source": [
    "%load_ext lab_black"
   ]
  },
  {
   "cell_type": "markdown",
   "id": "3a843967-a773-44d0-82d0-6f580435927e",
   "metadata": {},
   "source": [
    "# Get a 'detector' object"
   ]
  },
  {
   "cell_type": "code",
   "execution_count": 2,
   "id": "ced3ef19-5ef7-4ff6-8cc9-559e88dc2b47",
   "metadata": {},
   "outputs": [
    {
     "data": {
      "text/plain": [
       "<pyxel.detectors.ccd.CCD at 0x7fc8437527c0>"
      ]
     },
     "execution_count": 2,
     "metadata": {},
     "output_type": "execute_result"
    }
   ],
   "source": [
    "# Get a `Detector` object\n",
    "import shelve\n",
    "\n",
    "with shelve.open(\"arctic_comparison\", \"r\") as dct:\n",
    "    detector = dct[\"detector\"]\n",
    "\n",
    "detector"
   ]
  },
  {
   "cell_type": "code",
   "execution_count": 3,
   "id": "cfdb0d76-e4c9-44ab-ad59-fff837d479d2",
   "metadata": {},
   "outputs": [],
   "source": [
    "import numpy as np\n",
    "import typing as t"
   ]
  },
  {
   "cell_type": "markdown",
   "id": "00e79591-9efa-4670-bf51-8edf750eb6e4",
   "metadata": {},
   "source": [
    "# Create densities and release timescales for 5 traps"
   ]
  },
  {
   "cell_type": "code",
   "execution_count": 4,
   "id": "8e18be1f-bed1-47f6-8cf3-0ba29fa24d0a",
   "metadata": {},
   "outputs": [],
   "source": [
    "rng = np.random.default_rng(seed=1234)\n",
    "\n",
    "densities = rng.normal(loc=100.0, scale=5, size=5)\n",
    "release_timescales = rng.normal(loc=1.2, scale=0.3, size=5)"
   ]
  },
  {
   "cell_type": "code",
   "execution_count": 5,
   "id": "134d2108-eedc-4a9e-85df-9f8da76a2d2e",
   "metadata": {},
   "outputs": [
    {
     "data": {
      "text/plain": [
       "array([ 91.98081597, 100.32049957, 103.70445648, 100.76309597,\n",
       "       104.31871946])"
      ]
     },
     "execution_count": 5,
     "metadata": {},
     "output_type": "execute_result"
    }
   ],
   "source": [
    "densities"
   ]
  },
  {
   "cell_type": "code",
   "execution_count": 6,
   "id": "f76dd717-f385-42b8-b557-dc7fe67f7b74",
   "metadata": {},
   "outputs": [
    {
     "data": {
      "text/plain": [
       "array([2.07392977, 0.75635299, 1.48364189, 0.70015936, 1.30312337])"
      ]
     },
     "execution_count": 6,
     "metadata": {},
     "output_type": "execute_result"
    }
   ],
   "source": [
    "release_timescales"
   ]
  },
  {
   "cell_type": "markdown",
   "id": "e53c58d7-788b-4ce2-b4cf-34b1a1e03167",
   "metadata": {},
   "source": [
    "# Test with Arctic Vanilla\n",
    "\n",
    "First version using ``arctic`` library from PyPI"
   ]
  },
  {
   "cell_type": "code",
   "execution_count": 7,
   "id": "1a9d039f-ca2f-43a5-9a77-60714ec1cef3",
   "metadata": {},
   "outputs": [],
   "source": [
    "import arcticpy as ac\n",
    "\n",
    "\n",
    "def arctic_00(\n",
    "    detector,\n",
    "    well_fill_power: float,\n",
    "    density_1d: t.Sequence[float],\n",
    "    release_timescale_1d: t.Sequence[float],\n",
    "    express=0,\n",
    "):\n",
    "\n",
    "    char = detector.characteristics\n",
    "    image = detector.pixel.array\n",
    "    image = image.astype(float)\n",
    "    ccd = ac.CCD(well_fill_power=well_fill_power, full_well_depth=char.fwc)\n",
    "    roe = ac.ROE()\n",
    "\n",
    "    assert len(density_1d) == len(release_timescale_1d)\n",
    "    traps = []  # type: t.List[Trap]\n",
    "    for density, release_timescale in zip(density_1d, release_timescale_1d):\n",
    "        trap = ac.Trap(density=density, release_timescale=release_timescale)\n",
    "        traps.append(trap)\n",
    "\n",
    "    image_cti_added = ac.add_cti(\n",
    "        image=image,\n",
    "        parallel_traps=[trap],\n",
    "        parallel_ccd=ccd,\n",
    "        parallel_roe=roe,\n",
    "        parallel_express=express,\n",
    "    )\n",
    "\n",
    "    image_cti_removed = ac.remove_cti(\n",
    "        image=image_cti_added,\n",
    "        iterations=5,\n",
    "        parallel_traps=[trap],\n",
    "        parallel_ccd=ccd,\n",
    "        parallel_roe=roe,\n",
    "        parallel_express=express,\n",
    "    )\n",
    "\n",
    "    # detector.pixel.array = image_cti_removed\n",
    "\n",
    "    return image_cti_removed"
   ]
  },
  {
   "cell_type": "markdown",
   "id": "d5258b7e-1817-409a-b405-d597ccbaa6c4",
   "metadata": {},
   "source": [
    "## Run for 1 trap"
   ]
  },
  {
   "cell_type": "code",
   "execution_count": 8,
   "id": "5dbac499-40fa-4c4d-bfd1-489cfeb13a4e",
   "metadata": {},
   "outputs": [
    {
     "name": "stdout",
     "output_type": "stream",
     "text": [
      "CPU times: user 1min 37s, sys: 355 ms, total: 1min 37s\n",
      "Wall time: 1min 38s\n"
     ]
    }
   ],
   "source": [
    "%%time\n",
    "\n",
    "result_arctic_vanilla_1_trap = arctic_00(\n",
    "    detector=detector,\n",
    "    well_fill_power=0.8, \n",
    "    density_1d=[100.0], \n",
    "    release_timescale_1d=[1.2], \n",
    "    express=0 \n",
    ")"
   ]
  },
  {
   "cell_type": "code",
   "execution_count": 9,
   "id": "63ad6254-edc9-4a16-8a31-607fcd548149",
   "metadata": {},
   "outputs": [
    {
     "name": "stdout",
     "output_type": "stream",
     "text": [
      "1min 31s ± 3.4 s per loop (mean ± std. dev. of 7 runs, 1 loop each)\n"
     ]
    }
   ],
   "source": [
    "%%timeit\n",
    "\n",
    "# 1min 31s ± 3.4 s per loop \n",
    "_= arctic_00(\n",
    "    detector=detector,\n",
    "    well_fill_power=0.8, \n",
    "    density_1d=[100.0], \n",
    "    release_timescale_1d=[1.2], \n",
    "    express=0 \n",
    ")"
   ]
  },
  {
   "cell_type": "markdown",
   "id": "18b8f7f7-899a-4da7-8ec6-8dfa661666f5",
   "metadata": {},
   "source": [
    "## Run for 5 traps (NOT WORKING)"
   ]
  },
  {
   "cell_type": "raw",
   "id": "c6d8d0b8-485b-4e41-8a10-6c3149e0a5e9",
   "metadata": {},
   "source": [
    "# !! NOT WORKING !!\n",
    "%%time\n",
    "\n",
    "result_arctic_vanilla_5_traps = arctic_00(\n",
    "    detector=detector,\n",
    "    well_fill_power=0.8, \n",
    "    density_1d=densities, \n",
    "    release_timescale_1d=release_timescales, \n",
    "    express=0 \n",
    ")"
   ]
  },
  {
   "cell_type": "raw",
   "id": "cd811072-1f78-459a-92a2-6fd4af2f23c9",
   "metadata": {},
   "source": [
    "# !! NOT WORKING !!\n",
    "%%timeit\n",
    "\n",
    "# 16.7 s ± 247 ms per loop\n",
    "_ = arctic_00(\n",
    "    detector=detector,\n",
    "    well_fill_power=0.8, \n",
    "    density_1d=densities, \n",
    "    release_timescale_1d=release_timescales, \n",
    "    express=0 \n",
    ")"
   ]
  },
  {
   "cell_type": "markdown",
   "id": "8ea34bde-eab5-4cb4-b81d-b85fa74dcdaf",
   "metadata": {},
   "source": [
    "# Arctic extracted without numba\n",
    "\n",
    "First version with a modified `arctic` library"
   ]
  },
  {
   "cell_type": "code",
   "execution_count": 10,
   "id": "adf31748-e236-42b8-86e8-5f86909ee0b2",
   "metadata": {},
   "outputs": [],
   "source": [
    "from arctic_without_numba import CCD as CCD_no_numba\n",
    "from arctic_without_numba import ROE as ROE_no_numba\n",
    "from arctic_without_numba import TrapsInstantCapture as TrapsInstantCapture_no_numba\n",
    "from arctic_without_numba import add_cti as add_cti_no_numba\n",
    "from arctic_without_numba import remove_cti as remove_cti_no_numba"
   ]
  },
  {
   "cell_type": "code",
   "execution_count": 11,
   "id": "66a3d581-51eb-487d-b02c-5caacc58859e",
   "metadata": {},
   "outputs": [],
   "source": [
    "def arctic_01(\n",
    "    detector,\n",
    "    well_fill_power: float,\n",
    "    density_1d: t.Sequence[float],\n",
    "    release_timescale_1d: t.Sequence[float],\n",
    "    express=0,\n",
    "):\n",
    "\n",
    "    char = detector.characteristics\n",
    "    image_2d = detector.pixel.array\n",
    "    image_2d = image_2d.astype(float)\n",
    "\n",
    "    ccd = CCD_no_numba(\n",
    "        n_phases=1,\n",
    "        fraction_of_traps_per_phase=np.array([1.0], dtype=np.float64),\n",
    "        full_well_depth=np.array([char.fwc], dtype=np.float64),\n",
    "        well_notch_depth=np.array([0.0], dtype=np.float64),\n",
    "        well_fill_power=np.array([well_fill_power], dtype=np.float64),\n",
    "        well_bloom_level=np.array([char.fwc], dtype=np.float64),\n",
    "    )\n",
    "\n",
    "    parallel_roe = ROE_no_numba(dwell_times=np.array([1.0], dtype=np.float64))\n",
    "    # serial_roe = ROE(dwell_times=np.array([1.0], dtype=np.float64))\n",
    "    # trap = Trap(density=density, release_timescale=release_timescale)\n",
    "\n",
    "    # Create the trap(s)\n",
    "    n_traps = len(density_1d)\n",
    "    traps = TrapsInstantCapture_no_numba(\n",
    "        density_1d=density_1d,\n",
    "        release_timescale_1d=release_timescale_1d,\n",
    "        surface_1d=np.array([False] * n_traps, dtype=np.bool_),\n",
    "    )\n",
    "\n",
    "    traps_lst = []\n",
    "    traps_lst.append(traps)\n",
    "\n",
    "    image_cti_added = add_cti_no_numba(\n",
    "        image_2d=image_2d,\n",
    "        parallel_traps=traps_lst,\n",
    "        parallel_ccd=ccd,\n",
    "        parallel_roe=parallel_roe,\n",
    "        parallel_express=express,\n",
    "        # serial_roe=serial_roe,\n",
    "    )\n",
    "\n",
    "    image_cti_removed = remove_cti_no_numba(\n",
    "        image_2d=image_cti_added,\n",
    "        iterations=5,\n",
    "        parallel_traps=traps_lst,\n",
    "        parallel_ccd=ccd,\n",
    "        parallel_roe=parallel_roe,\n",
    "        parallel_express=express,\n",
    "        # serial_roe=serial_roe,\n",
    "    )\n",
    "\n",
    "    return image_cti_removed"
   ]
  },
  {
   "cell_type": "markdown",
   "id": "a621119e-de16-4bb0-82d4-0754054ee09f",
   "metadata": {},
   "source": [
    "## Run for 1 trap"
   ]
  },
  {
   "cell_type": "code",
   "execution_count": 12,
   "id": "be9e094c-f4ea-40ce-9bdb-fd6c27a02fd5",
   "metadata": {},
   "outputs": [
    {
     "name": "stderr",
     "output_type": "stream",
     "text": [
      "/System/Volumes/Data/work/sw/pyxel/pyxel/models/charge_transfer/arctic_without_numba.py:948: RuntimeWarning: divide by zero encountered in true_divide\n",
      "  self.capture_rate_1d = 1.0 / self.capture_timescale_1d  # type: np.ndarray\n",
      "/System/Volumes/Data/work/sw/pyxel/pyxel/models/charge_transfer/arctic_without_numba.py:1164: RuntimeWarning: invalid value encountered in multiply\n",
      "  fill_probabilities_from_empty_1d = self.capture_rates_1d * exponential_factor\n",
      "/System/Volumes/Data/work/sw/pyxel/pyxel/models/charge_transfer/arctic_without_numba.py:1164: RuntimeWarning: invalid value encountered in multiply\n",
      "  fill_probabilities_from_empty_1d = self.capture_rates_1d * exponential_factor\n",
      "/System/Volumes/Data/work/sw/pyxel/pyxel/models/charge_transfer/arctic_without_numba.py:1164: RuntimeWarning: invalid value encountered in multiply\n",
      "  fill_probabilities_from_empty_1d = self.capture_rates_1d * exponential_factor\n",
      "/System/Volumes/Data/work/sw/pyxel/pyxel/models/charge_transfer/arctic_without_numba.py:948: RuntimeWarning: divide by zero encountered in true_divide\n",
      "  self.capture_rate_1d = 1.0 / self.capture_timescale_1d  # type: np.ndarray\n"
     ]
    },
    {
     "name": "stdout",
     "output_type": "stream",
     "text": [
      "CPU times: user 54.6 s, sys: 355 ms, total: 54.9 s\n",
      "Wall time: 54.8 s\n"
     ]
    }
   ],
   "source": [
    "%%time\n",
    "\n",
    "result_arctic_no_numba_1_trap = arctic_01(\n",
    "    detector=detector,\n",
    "    well_fill_power=0.8, \n",
    "    density_1d=np.array([100.0]), \n",
    "    release_timescale_1d=np.array([1.2]), \n",
    "    express=0 \n",
    ")"
   ]
  },
  {
   "cell_type": "code",
   "execution_count": 13,
   "id": "531b357e-8145-46e1-a5e5-e54619c86200",
   "metadata": {},
   "outputs": [
    {
     "name": "stdout",
     "output_type": "stream",
     "text": [
      "57 s ± 2.24 s per loop (mean ± std. dev. of 7 runs, 1 loop each)\n"
     ]
    }
   ],
   "source": [
    "%%timeit\n",
    "\n",
    "# 57 s ± 2.24 s per loop\n",
    "_ = arctic_01(\n",
    "    detector=detector,\n",
    "    well_fill_power=0.8, \n",
    "    density_1d=np.array([100.0]), \n",
    "    release_timescale_1d=np.array([1.2]), \n",
    "    express=0 \n",
    ")"
   ]
  },
  {
   "cell_type": "markdown",
   "id": "ba1eb154-3bef-4292-8274-9469baa57e22",
   "metadata": {},
   "source": [
    "## Run for 5 traps (NOT WORKING)"
   ]
  },
  {
   "cell_type": "raw",
   "id": "e4fd0c58-d675-4ef8-bd94-aa50bf6e76b1",
   "metadata": {},
   "source": [
    "# !! NOT WORKING !!\n",
    "\n",
    "%%time\n",
    "\n",
    "result_arctic_no_numba_5_traps = arctic_01(\n",
    "    detector=detector,\n",
    "    well_fill_power=0.8, \n",
    "    density_1d=densities, \n",
    "    release_timescale_1d=release_timescales, \n",
    "    express=0 \n",
    ")"
   ]
  },
  {
   "cell_type": "raw",
   "id": "4734505f-a9e2-479e-aa9c-1cb2500992b4",
   "metadata": {},
   "source": [
    "# !! NOT WORKING !!\n",
    "\n",
    "%%timeit\n",
    "\n",
    "# 11 s ± 262 ms per loop\n",
    "_ = arctic_01(\n",
    "    detector=detector,\n",
    "    well_fill_power=0.8, \n",
    "    density_1d=densities, \n",
    "    release_timescale_1d=release_timescales, \n",
    "    express=0 \n",
    ")"
   ]
  },
  {
   "cell_type": "markdown",
   "id": "0d36357d-ef84-497b-8659-aa586d2eba36",
   "metadata": {},
   "source": [
    "## Comparison with vanilla arctic"
   ]
  },
  {
   "cell_type": "code",
   "execution_count": 14,
   "id": "8374590a-0a31-475f-a5d7-aa9dddc49f65",
   "metadata": {},
   "outputs": [],
   "source": [
    "# Compare results from vanilla 'arctic' and this 'arctic'\n",
    "np.testing.assert_equal(result_arctic_vanilla_1_trap, result_arctic_no_numba_1_trap)\n",
    "\n",
    "\n",
    "# !! NOT WORKING !!\n",
    "# np.testing.assert_equal(result_arctic_vanilla_5_traps, result_arctic_no_numba_5_traps)"
   ]
  },
  {
   "cell_type": "markdown",
   "id": "0eaece32-12ef-4de6-88ca-c3f8f117f648",
   "metadata": {},
   "source": [
    "# Arctic with numba\n"
   ]
  },
  {
   "cell_type": "code",
   "execution_count": 15,
   "id": "e7559ed7-06c1-4492-9e1e-a8140a7c419c",
   "metadata": {},
   "outputs": [],
   "source": [
    "from arctic_with_numba_02 import CCD as CCD_numba\n",
    "from arctic_with_numba_02 import ROE as ROE_numba\n",
    "from arctic_with_numba_02 import TrapsInstantCapture as TrapsInstantCapture_numba\n",
    "from arctic_with_numba_02 import add_cti as add_cti_numba\n",
    "from arctic_with_numba_02 import remove_cti as remove_cti_numba\n",
    "\n",
    "from numba.typed import List"
   ]
  },
  {
   "cell_type": "code",
   "execution_count": 16,
   "id": "f64cfe9c-602b-4416-bc92-05b53fcceba9",
   "metadata": {},
   "outputs": [],
   "source": [
    "def arctic_02(\n",
    "    detector,\n",
    "    well_fill_power: float,\n",
    "    density_1d: t.Sequence[float],\n",
    "    release_timescale_1d: t.Sequence[float],\n",
    "    express=0,\n",
    "):\n",
    "\n",
    "    char = detector.characteristics\n",
    "    image_2d = detector.pixel.array\n",
    "    image_2d = image_2d.astype(float)\n",
    "\n",
    "    ccd = CCD_numba(\n",
    "        n_phases=1,\n",
    "        fraction_of_traps_per_phase=np.array([1.0], dtype=np.float64),\n",
    "        full_well_depth=np.array([char.fwc], dtype=np.float64),\n",
    "        well_notch_depth=np.array([0.0], dtype=np.float64),\n",
    "        well_fill_power=np.array([well_fill_power], dtype=np.float64),\n",
    "        well_bloom_level=np.array([char.fwc], dtype=np.float64),\n",
    "    )\n",
    "\n",
    "    parallel_roe = ROE_numba(dwell_times=np.array([1.0], dtype=np.float64))\n",
    "    # serial_roe = ROE(dwell_times=np.array([1.0], dtype=np.float64))\n",
    "    # trap = Trap(density=density, release_timescale=release_timescale)\n",
    "\n",
    "    # Create the trap(s)\n",
    "    n_traps = len(density_1d)\n",
    "    traps = TrapsInstantCapture_numba(\n",
    "        density_1d=density_1d,\n",
    "        release_timescale_1d=release_timescale_1d,\n",
    "        surface_1d=np.array([False] * n_traps, dtype=np.bool_),\n",
    "    )\n",
    "\n",
    "    traps_lst = List()\n",
    "    traps_lst.append(traps)\n",
    "\n",
    "    image_cti_added = add_cti_numba(\n",
    "        image_2d=image_2d,\n",
    "        parallel_traps=traps_lst,\n",
    "        parallel_ccd=ccd,\n",
    "        parallel_roe=parallel_roe,\n",
    "        parallel_express=express,\n",
    "        # serial_roe=serial_roe,\n",
    "    )\n",
    "\n",
    "    image_cti_removed = remove_cti_numba(\n",
    "        image_2d=image_cti_added,\n",
    "        iterations=5,\n",
    "        parallel_traps=traps_lst,\n",
    "        parallel_ccd=ccd,\n",
    "        parallel_roe=parallel_roe,\n",
    "        parallel_express=express,\n",
    "        # serial_roe=serial_roe,\n",
    "    )\n",
    "    return image_cti_removed"
   ]
  },
  {
   "cell_type": "markdown",
   "id": "1f91d240-4b73-4e48-a2db-1ae01c6992a4",
   "metadata": {},
   "source": [
    "## Run for 1 trap"
   ]
  },
  {
   "cell_type": "code",
   "execution_count": 17,
   "id": "6b996581-8db8-4f14-b5b2-de273732a311",
   "metadata": {},
   "outputs": [
    {
     "name": "stdout",
     "output_type": "stream",
     "text": [
      "CPU times: user 41.3 s, sys: 199 ms, total: 41.5 s\n",
      "Wall time: 41.5 s\n"
     ]
    }
   ],
   "source": [
    "%%time\n",
    "\n",
    "result_arctic_with_numba_1_trap = arctic_02(\n",
    "    detector=detector,\n",
    "    well_fill_power=0.8, \n",
    "    density_1d=np.array([100.0], dtype=np.float64), \n",
    "    release_timescale_1d=np.array([1.2], dtype=np.float64), \n",
    "    express=0 \n",
    ")"
   ]
  },
  {
   "cell_type": "code",
   "execution_count": 18,
   "id": "2befd3c4-0734-4d1e-be11-fc9b1bc010a4",
   "metadata": {},
   "outputs": [
    {
     "name": "stdout",
     "output_type": "stream",
     "text": [
      "6.01 s ± 62.4 ms per loop (mean ± std. dev. of 7 runs, 1 loop each)\n"
     ]
    }
   ],
   "source": [
    "%%timeit\n",
    "\n",
    "# 6.01 s ± 62.4 ms per loop\n",
    "_ = arctic_02(\n",
    "    detector=detector,\n",
    "    well_fill_power=0.8, \n",
    "    density_1d=np.array([100.0]), \n",
    "    release_timescale_1d=np.array([1.2]), \n",
    "    express=0 \n",
    ")"
   ]
  },
  {
   "cell_type": "markdown",
   "id": "c3a541fb-e540-47de-8243-3aca4fdc5e30",
   "metadata": {},
   "source": [
    "## Run for 5 traps (NOT WORKING)"
   ]
  },
  {
   "cell_type": "raw",
   "id": "19c6eb79-a77a-4cfe-aced-7840b90f001c",
   "metadata": {},
   "source": [
    "# !! NOT WORKING !!\n",
    "\n",
    "%%time\n",
    "\n",
    "result_arctic_with_numba_5_traps = arctic_02(\n",
    "    detector=detector,\n",
    "    well_fill_power=0.8, \n",
    "    density_1d=densities, \n",
    "    release_timescale_1d=release_timescales, \n",
    "    express=0 \n",
    ")"
   ]
  },
  {
   "cell_type": "raw",
   "id": "97920450-1457-4519-b37e-fca519ef7ff7",
   "metadata": {},
   "source": [
    "# !! NOT WORKING !!\n",
    "\n",
    "%%timeit\n",
    "\n",
    "# 1.85 s ± 59.1 ms per loop\n",
    "_ = arctic_02(\n",
    "    detector=detector,\n",
    "    well_fill_power=0.8, \n",
    "    density_1d=densities, \n",
    "    release_timescale_1d=release_timescales, \n",
    "    express=0 \n",
    ")"
   ]
  },
  {
   "cell_type": "markdown",
   "id": "6fa6825b-303f-425e-9ced-64fbb49d8589",
   "metadata": {},
   "source": [
    "## Comparison with vanilla arctic"
   ]
  },
  {
   "cell_type": "code",
   "execution_count": 19,
   "id": "2503b475-b832-4d40-9d0c-16a2c62f0d61",
   "metadata": {},
   "outputs": [],
   "source": [
    "# Compare results from vanilla 'arctic' and this 'arctic'\n",
    "np.testing.assert_almost_equal(\n",
    "    result_arctic_vanilla_1_trap, result_arctic_with_numba_1_trap\n",
    ")\n",
    "\n",
    "# !! NOT WORKING !!\n",
    "# np.testing.assert_almost_equal(\n",
    "#     result_arctic_vanilla_5_traps, result_arctic_with_numba_5_traps\n",
    "# )"
   ]
  },
  {
   "cell_type": "markdown",
   "id": "fc9bdf80-3bc0-4f4a-bc4e-d8dde41166a9",
   "metadata": {},
   "source": [
    "**Comparison with 1 Trap **\n",
    "\n",
    "\n",
    "| Model           |  Time   | Speedup |\n",
    "| --------------- |:-------:| -------:| \n",
    "| Vanilla Arctic  | 1min 31 |  15.1x  |\n",
    "| No Numba Arctic | 57 s    |  9.5x   |\n",
    "| Numba Arctic    | 6 s     |  1x     |\n",
    "\n",
    "\n",
    "**Comparison with 5 Traps**\n",
    "\n",
    "\n",
    "| Model           |  Time  | Speedup |\n",
    "| --------------- |:------:| -------:| \n",
    "| Vanilla Arctic  | -      |  -      |\n",
    "| No Numba Arctic | -      |  -      |\n",
    "| Numba Arctic    | -      |  -      |"
   ]
  },
  {
   "cell_type": "code",
   "execution_count": null,
   "id": "1d66e25b-5034-4c19-86b1-db6b98d6d8a8",
   "metadata": {},
   "outputs": [],
   "source": []
  }
 ],
 "metadata": {
  "kernelspec": {
   "display_name": "Python 3 (ipykernel)",
   "language": "python",
   "name": "python3"
  },
  "language_info": {
   "codemirror_mode": {
    "name": "ipython",
    "version": 3
   },
   "file_extension": ".py",
   "mimetype": "text/x-python",
   "name": "python",
   "nbconvert_exporter": "python",
   "pygments_lexer": "ipython3",
   "version": "3.8.10"
  },
  "toc-autonumbering": true
 },
 "nbformat": 4,
 "nbformat_minor": 5
}
