{
 "cells": [
  {
   "cell_type": "raw",
   "id": "824f3815-ba86-4558-8316-650fa5ff7dbc",
   "metadata": {},
   "source": [
    "!pip install \"pynufft==2020.1.2\""
   ]
  },
  {
   "cell_type": "code",
   "execution_count": 1,
   "id": "57175cda-3718-4961-86d5-4e57c8d574e9",
   "metadata": {},
   "outputs": [],
   "source": [
    "%load_ext lab_black"
   ]
  },
  {
   "cell_type": "markdown",
   "id": "3a843967-a773-44d0-82d0-6f580435927e",
   "metadata": {},
   "source": [
    "# Get a 'detector' object"
   ]
  },
  {
   "cell_type": "code",
   "execution_count": 2,
   "id": "ced3ef19-5ef7-4ff6-8cc9-559e88dc2b47",
   "metadata": {},
   "outputs": [],
   "source": [
    "from pyxel.detectors import CCD, CCDCharacteristics, CCDGeometry, Environment, Material\n",
    "import numpy as np\n",
    "import typing as t\n",
    "from copy import deepcopy\n",
    "\n",
    "\n",
    "def create_detector() -> CCD:\n",
    "    \"\"\"Create a valid `CCD` object.\"\"\"\n",
    "    pixel_2d = np.zeros((100, 10), dtype=int)\n",
    "\n",
    "    pixel_2d[25:50, :] = 100\n",
    "    pixel_2d[75:, :] = 100\n",
    "\n",
    "    detector = CCD(\n",
    "        geometry=CCDGeometry(row=100, col=10),\n",
    "        material=Material(),\n",
    "        environment=Environment(),\n",
    "        characteristics=CCDCharacteristics(fwc=100_000),\n",
    "    )\n",
    "\n",
    "    detector.pixel.array = pixel_2d\n",
    "\n",
    "    return detector"
   ]
  },
  {
   "cell_type": "code",
   "execution_count": 3,
   "id": "b1a436a5-446d-45e7-ace3-0aecb4e94b65",
   "metadata": {},
   "outputs": [
    {
     "data": {
      "text/plain": [
       "<pyxel.detectors.ccd.CCD at 0x7fd25228d490>"
      ]
     },
     "execution_count": 3,
     "metadata": {},
     "output_type": "execute_result"
    }
   ],
   "source": [
    "detector = create_detector()\n",
    "\n",
    "detector"
   ]
  },
  {
   "cell_type": "code",
   "execution_count": 4,
   "id": "74518fe6-ce57-43b5-9dca-e5545d8f1beb",
   "metadata": {},
   "outputs": [
    {
     "name": "stdout",
     "output_type": "stream",
     "text": [
      "170 µs ± 5.67 µs per loop (mean ± std. dev. of 7 runs, 10000 loops each)\n"
     ]
    }
   ],
   "source": [
    "%%timeit\n",
    "\n",
    "_ = deepcopy(detector)"
   ]
  },
  {
   "cell_type": "markdown",
   "id": "00e79591-9efa-4670-bf51-8edf750eb6e4",
   "metadata": {},
   "source": [
    "# Define 1 trap and 5 traps"
   ]
  },
  {
   "cell_type": "code",
   "execution_count": 5,
   "id": "33ca9bdd-f025-4d1b-8ad0-74d7c9be2945",
   "metadata": {},
   "outputs": [],
   "source": [
    "one_trap = [{\"density\": 90.0, \"release_timescale\": 1.2}]\n",
    "\n",
    "five_traps = [\n",
    "    {\"density\": 91.98081597, \"release_timescale\": 2.07392977},\n",
    "    {\"density\": 100.32049957, \"release_timescale\": 0.75635299},\n",
    "    {\"density\": 103.70445648, \"release_timescale\": 1.48364189},\n",
    "    {\"density\": 100.76309597, \"release_timescale\": 0.70015936},\n",
    "    {\"density\": 104.31871946, \"release_timescale\": 1.30312337},\n",
    "]"
   ]
  },
  {
   "cell_type": "markdown",
   "id": "e53c58d7-788b-4ce2-b4cf-34b1a1e03167",
   "metadata": {},
   "source": [
    "# Test with Arctic Vanilla\n",
    "\n",
    "First version using ``arctic`` library from PyPI"
   ]
  },
  {
   "cell_type": "markdown",
   "id": "d5258b7e-1817-409a-b405-d597ccbaa6c4",
   "metadata": {},
   "source": [
    "## Run for 1 trap"
   ]
  },
  {
   "cell_type": "code",
   "execution_count": 6,
   "id": "5b9bff04-9eed-45c1-93cc-936f487b82ab",
   "metadata": {},
   "outputs": [],
   "source": [
    "from pyxel.models.charge_transfer.arctic_cti.models_arctic_vanilla import arctic_add"
   ]
  },
  {
   "cell_type": "code",
   "execution_count": 7,
   "id": "b0ef3957-0ebf-49ee-ba78-f47a9359d794",
   "metadata": {},
   "outputs": [
    {
     "name": "stdout",
     "output_type": "stream",
     "text": [
      "CPU times: user 13.2 s, sys: 48.6 ms, total: 13.3 s\n",
      "Wall time: 13.3 s\n"
     ]
    }
   ],
   "source": [
    "%%time\n",
    "\n",
    "detector_vanilla_1_trap = deepcopy(detector)\n",
    "\n",
    "arctic_add(\n",
    "    detector=detector_vanilla_1_trap,\n",
    "    well_fill_power=0.8,\n",
    "    instant_traps=one_trap,\n",
    "    express=0,\n",
    ")"
   ]
  },
  {
   "cell_type": "code",
   "execution_count": 15,
   "id": "5dbac499-40fa-4c4d-bfd1-489cfeb13a4e",
   "metadata": {},
   "outputs": [
    {
     "name": "stdout",
     "output_type": "stream",
     "text": [
      "13.7 s ± 822 ms per loop (mean ± std. dev. of 7 runs, 1 loop each)\n"
     ]
    }
   ],
   "source": [
    "%%timeit\n",
    "\n",
    "# Done in 13.7 s ± 822 ms\n",
    "arctic_add(\n",
    "    detector=deepcopy(detector),\n",
    "    well_fill_power=0.8,\n",
    "    instant_traps=one_trap,\n",
    "    express=0,\n",
    ")"
   ]
  },
  {
   "cell_type": "markdown",
   "id": "18b8f7f7-899a-4da7-8ec6-8dfa661666f5",
   "metadata": {},
   "source": [
    "## Run for 5 traps"
   ]
  },
  {
   "cell_type": "code",
   "execution_count": 8,
   "id": "dac956e7-5e1c-4bf9-9889-34c344f74fa8",
   "metadata": {},
   "outputs": [
    {
     "name": "stdout",
     "output_type": "stream",
     "text": [
      "CPU times: user 16.7 s, sys: 63.8 ms, total: 16.8 s\n",
      "Wall time: 16.9 s\n"
     ]
    }
   ],
   "source": [
    "%%time\n",
    "\n",
    "detector_vanilla_5_traps = deepcopy(detector)\n",
    "\n",
    "arctic_add(\n",
    "    detector=detector_vanilla_5_traps,\n",
    "    well_fill_power=0.8,\n",
    "    instant_traps=five_traps,\n",
    "    express=0,\n",
    ")"
   ]
  },
  {
   "cell_type": "code",
   "execution_count": 16,
   "id": "04e5358b-872f-438d-959d-9070974e0661",
   "metadata": {},
   "outputs": [
    {
     "name": "stdout",
     "output_type": "stream",
     "text": [
      "15.9 s ± 411 ms per loop (mean ± std. dev. of 7 runs, 1 loop each)\n"
     ]
    }
   ],
   "source": [
    "%%timeit\n",
    "\n",
    "# Done in 15.9 s ± 411 ms\n",
    "arctic_add(\n",
    "    detector=deepcopy(detector),\n",
    "    well_fill_power=0.8,\n",
    "    instant_traps=five_traps,\n",
    "    express=0,\n",
    ")"
   ]
  },
  {
   "cell_type": "markdown",
   "id": "8ea34bde-eab5-4cb4-b81d-b85fa74dcdaf",
   "metadata": {},
   "source": [
    "# Arctic with numba\n",
    "\n",
    "First version with a modified `arctic` library"
   ]
  },
  {
   "cell_type": "markdown",
   "id": "a621119e-de16-4bb0-82d4-0754054ee09f",
   "metadata": {},
   "source": [
    "## Run for 1 trap"
   ]
  },
  {
   "cell_type": "code",
   "execution_count": 9,
   "id": "adf31748-e236-42b8-86e8-5f86909ee0b2",
   "metadata": {},
   "outputs": [],
   "source": [
    "from pyxel.models.charge_transfer.arctic_cti.models_arctic_numba import arctic_add_numba"
   ]
  },
  {
   "cell_type": "code",
   "execution_count": 10,
   "id": "66a3d581-51eb-487d-b02c-5caacc58859e",
   "metadata": {},
   "outputs": [
    {
     "name": "stdout",
     "output_type": "stream",
     "text": [
      "CPU times: user 33.2 s, sys: 290 ms, total: 33.5 s\n",
      "Wall time: 33.7 s\n"
     ]
    }
   ],
   "source": [
    "%%time\n",
    "\n",
    "detector_fast_1_trap = deepcopy(detector)\n",
    "\n",
    "arctic_add_numba(\n",
    "    detector=detector_fast_1_trap,\n",
    "    well_fill_power=0.8,\n",
    "    instant_traps=one_trap,\n",
    "    express=0,\n",
    ")"
   ]
  },
  {
   "cell_type": "code",
   "execution_count": 17,
   "id": "be9e094c-f4ea-40ce-9bdb-fd6c27a02fd5",
   "metadata": {},
   "outputs": [
    {
     "name": "stdout",
     "output_type": "stream",
     "text": [
      "1.24 s ± 447 ms per loop (mean ± std. dev. of 7 runs, 1 loop each)\n"
     ]
    }
   ],
   "source": [
    "%%timeit\n",
    "\n",
    "#. Done in 1.24 s ± 447 ms\n",
    "arctic_add_numba(\n",
    "    detector=deepcopy(detector),\n",
    "    well_fill_power=0.8,\n",
    "    instant_traps=one_trap,\n",
    "    express=0,\n",
    ")"
   ]
  },
  {
   "cell_type": "markdown",
   "id": "ba1eb154-3bef-4292-8274-9469baa57e22",
   "metadata": {},
   "source": [
    "## Run for 5 traps"
   ]
  },
  {
   "cell_type": "code",
   "execution_count": 11,
   "id": "b8d5adc8-c5ed-4106-b4ca-429b95a5828a",
   "metadata": {},
   "outputs": [
    {
     "name": "stdout",
     "output_type": "stream",
     "text": [
      "CPU times: user 2.01 s, sys: 15.7 ms, total: 2.03 s\n",
      "Wall time: 2.02 s\n"
     ]
    }
   ],
   "source": [
    "%%time\n",
    "\n",
    "detector_fast_5_traps = deepcopy(detector)\n",
    "\n",
    "arctic_add_numba(\n",
    "    detector=detector_fast_5_traps,\n",
    "    well_fill_power=0.8,\n",
    "    instant_traps=five_traps,\n",
    "    express=0,\n",
    ")"
   ]
  },
  {
   "cell_type": "code",
   "execution_count": 21,
   "id": "cff0a0e5-2a62-4447-9da1-45869e5a9bc3",
   "metadata": {},
   "outputs": [
    {
     "name": "stdout",
     "output_type": "stream",
     "text": [
      "1.69 s ± 45.2 ms per loop (mean ± std. dev. of 7 runs, 1 loop each)\n"
     ]
    }
   ],
   "source": [
    "%%timeit\n",
    "\n",
    "# Done in 1.98 s ± 75.7 ms\n",
    "arctic_add_numba(\n",
    "    detector=deepcopy(detector),\n",
    "    well_fill_power=0.8,\n",
    "    instant_traps=five_traps,\n",
    "    express=0,\n",
    ")"
   ]
  },
  {
   "cell_type": "markdown",
   "id": "0d36357d-ef84-497b-8659-aa586d2eba36",
   "metadata": {},
   "source": [
    "## Comparison with vanilla arctic"
   ]
  },
  {
   "cell_type": "code",
   "execution_count": 14,
   "id": "8374590a-0a31-475f-a5d7-aa9dddc49f65",
   "metadata": {},
   "outputs": [],
   "source": [
    "# Compare results from vanilla 'arctic' and this 'arctic'\n",
    "np.testing.assert_almost_equal(\n",
    "    detector_vanilla_1_trap.pixel.array, detector_fast_1_trap.pixel.array\n",
    ")\n",
    "np.testing.assert_almost_equal(\n",
    "    detector_vanilla_5_traps.pixel.array, detector_fast_5_traps.pixel.array\n",
    ")"
   ]
  },
  {
   "cell_type": "markdown",
   "id": "fc9bdf80-3bc0-4f4a-bc4e-d8dde41166a9",
   "metadata": {},
   "source": [
    "**Comparison with 1 Trap**\n",
    "\n",
    "\n",
    "| Model           |  Time   | Speedup |\n",
    "| --------------- |:-------:| -------:| \n",
    "| Vanilla Arctic  | 13.7 s  |  11x    |\n",
    "| Numba Arctic    | 1.24 s  |  1x     |\n",
    "\n",
    "\n",
    "**Comparison with 5 Traps**\n",
    "\n",
    "\n",
    "| Model           |  Time  | Speedup |\n",
    "| --------------- |:------:| -------:| \n",
    "| Vanilla Arctic  | 15.9 s |  9.4x   |\n",
    "| Numba Arctic    | 1.69 s |  1x     |"
   ]
  },
  {
   "cell_type": "code",
   "execution_count": null,
   "id": "79035959-2fc6-40c4-9a76-0de83ec19621",
   "metadata": {},
   "outputs": [],
   "source": []
  }
 ],
 "metadata": {
  "kernelspec": {
   "display_name": "Python 3 (ipykernel)",
   "language": "python",
   "name": "python3"
  },
  "language_info": {
   "codemirror_mode": {
    "name": "ipython",
    "version": 3
   },
   "file_extension": ".py",
   "mimetype": "text/x-python",
   "name": "python",
   "nbconvert_exporter": "python",
   "pygments_lexer": "ipython3",
   "version": "3.8.10"
  },
  "toc-autonumbering": true
 },
 "nbformat": 4,
 "nbformat_minor": 5
}
