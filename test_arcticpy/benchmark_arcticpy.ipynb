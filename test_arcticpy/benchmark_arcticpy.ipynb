{
 "cells": [
  {
   "cell_type": "raw",
   "id": "1f7913e5-be48-4d47-8857-4959217a5dfa",
   "metadata": {},
   "source": [
    "!pip install \"pynufft<2020.2\"\n",
    "!pip install nb_black line-profiler"
   ]
  },
  {
   "cell_type": "code",
   "execution_count": 1,
   "id": "6c4c1b6d-bb22-4f1d-86a7-7da4801500b7",
   "metadata": {},
   "outputs": [],
   "source": [
    "%load_ext line_profiler\n",
    "%load_ext lab_black\n",
    "%load_ext autoreload\n",
    "%autoreload 2"
   ]
  },
  {
   "cell_type": "code",
   "execution_count": 2,
   "id": "f84adc72-81af-4a0f-90dc-5a2009e4351e",
   "metadata": {},
   "outputs": [
    {
     "name": "stderr",
     "output_type": "stream",
     "text": [
      "/System/Volumes/Data/work/sw/pyxel/pyxel/inputs_outputs/configuration.py:20: RuntimeWarning: Cannot import 'pygmo\n",
      "  from pyxel.calibration import Algorithm, Calibration\n"
     ]
    }
   ],
   "source": [
    "import pyxel.inputs_outputs as io\n",
    "import numpy as np\n",
    "from pyxel.run import single_mode"
   ]
  },
  {
   "cell_type": "markdown",
   "id": "9da6e47d-8c38-45b4-9930-f62b498a2f78",
   "metadata": {},
   "source": [
    "# Current arctic model\n",
    "## Load file `Arctic_1.yaml` with 'old' arctic model"
   ]
  },
  {
   "cell_type": "code",
   "execution_count": 3,
   "id": "e3faecf5-48b3-427a-9a98-df7cf856a204",
   "metadata": {},
   "outputs": [
    {
     "data": {
      "text/plain": [
       "ModelFunction(name='arctic', func=pyxel.models.charge_transfer.arctic.arctic, arguments=Arguments({'well_fill_power': 0.8, 'density': 100, 'release_timescale': 1.2, 'express': 20}), enabled=True)"
      ]
     },
     "execution_count": 3,
     "metadata": {},
     "output_type": "execute_result"
    }
   ],
   "source": [
    "# Create a configuration class from the yaml file\n",
    "arctic_config = io.load(\"Arctic_1.yaml\")\n",
    "\n",
    "arctic_single = arctic_config.single\n",
    "arctic_detector = arctic_config.ccd_detector\n",
    "arctic_pipeline = arctic_config.pipeline\n",
    "\n",
    "\n",
    "# Display current 'arctic_pipeline'\n",
    "arctic_pipeline.charge_transfer.arctic"
   ]
  },
  {
   "cell_type": "code",
   "execution_count": 4,
   "id": "be165b79-9e16-4893-8352-d4caf5af5335",
   "metadata": {},
   "outputs": [],
   "source": [
    "# Change parameter 'express'\n",
    "arctic_pipeline.charge_transfer.arctic.arguments[\"express\"] = 40"
   ]
  },
  {
   "cell_type": "markdown",
   "id": "735f1314-7cf3-4364-afec-7dbc437288c0",
   "metadata": {},
   "source": [
    "## Benchmark with 'old' arctic model"
   ]
  },
  {
   "cell_type": "code",
   "execution_count": 5,
   "id": "469e4c42-7909-4c74-901b-9f868dc070aa",
   "metadata": {},
   "outputs": [
    {
     "name": "stdout",
     "output_type": "stream",
     "text": [
      "5.16 s ± 135 ms per loop (mean ± std. dev. of 7 runs, 1 loop each)\n"
     ]
    }
   ],
   "source": [
    "%%timeit\n",
    "\n",
    "single_mode(single=arctic_single, detector=arctic_detector, pipeline=arctic_pipeline)"
   ]
  },
  {
   "cell_type": "markdown",
   "id": "a5cecd41-04da-46f0-8283-b5751c671fcf",
   "metadata": {},
   "source": [
    "# New arctic model\n",
    "## Modify pipeline with 'new' arctic model"
   ]
  },
  {
   "cell_type": "code",
   "execution_count": 6,
   "id": "4d4a5b38-2883-4db4-9c46-ed72b6db2445",
   "metadata": {},
   "outputs": [
    {
     "data": {
      "text/plain": [
       "ModelFunction(name='arctic', func=pyxel.models.charge_transfer.arctic_fast.arctic_fast, arguments=Arguments({'well_fill_power': 0.8, 'density': 100, 'release_timescale': 1.2, 'express': 40}), enabled=True)"
      ]
     },
     "execution_count": 6,
     "metadata": {},
     "output_type": "execute_result"
    }
   ],
   "source": [
    "from pyxel.models.charge_transfer import arctic_fast\n",
    "\n",
    "# Hack\n",
    "arctic_pipeline.charge_transfer.arctic._func = arctic_fast\n",
    "\n",
    "# Display current 'arctic_pipeline'\n",
    "arctic_pipeline.charge_transfer.arctic"
   ]
  },
  {
   "cell_type": "markdown",
   "id": "329cf09d-5cc8-47b5-aea8-9161f06d06ab",
   "metadata": {},
   "source": [
    "## Benchmark with 'new' arctic model"
   ]
  },
  {
   "cell_type": "code",
   "execution_count": 7,
   "id": "2636ff9b-7d60-4004-a007-c7186b2d77cc",
   "metadata": {},
   "outputs": [
    {
     "name": "stderr",
     "output_type": "stream",
     "text": [
      "/System/Volumes/Data/work/sw/pyxel/pyxel/models/charge_transfer/arctic_fast.py:282: RuntimeWarning: invalid value encountered in multiply\n",
      "  fill_probabilities_from_empty = capture_rates * exponential_factor\n",
      "/System/Volumes/Data/work/sw/pyxel/pyxel/models/charge_transfer/arctic_fast.py:282: RuntimeWarning: invalid value encountered in multiply\n",
      "  fill_probabilities_from_empty = capture_rates * exponential_factor\n",
      "/System/Volumes/Data/work/sw/pyxel/pyxel/models/charge_transfer/arctic_fast.py:282: RuntimeWarning: invalid value encountered in multiply\n",
      "  fill_probabilities_from_empty = capture_rates * exponential_factor\n",
      "/System/Volumes/Data/work/sw/pyxel/pyxel/models/charge_transfer/arctic_fast.py:282: RuntimeWarning: invalid value encountered in multiply\n",
      "  fill_probabilities_from_empty = capture_rates * exponential_factor\n",
      "/System/Volumes/Data/work/sw/pyxel/pyxel/models/charge_transfer/arctic_fast.py:282: RuntimeWarning: invalid value encountered in multiply\n",
      "  fill_probabilities_from_empty = capture_rates * exponential_factor\n",
      "/System/Volumes/Data/work/sw/pyxel/pyxel/models/charge_transfer/arctic_fast.py:282: RuntimeWarning: invalid value encountered in multiply\n",
      "  fill_probabilities_from_empty = capture_rates * exponential_factor\n",
      "/System/Volumes/Data/work/sw/pyxel/pyxel/models/charge_transfer/arctic_fast.py:282: RuntimeWarning: invalid value encountered in multiply\n",
      "  fill_probabilities_from_empty = capture_rates * exponential_factor\n",
      "/System/Volumes/Data/work/sw/pyxel/pyxel/models/charge_transfer/arctic_fast.py:282: RuntimeWarning: invalid value encountered in multiply\n",
      "  fill_probabilities_from_empty = capture_rates * exponential_factor\n",
      "/System/Volumes/Data/work/sw/pyxel/pyxel/models/charge_transfer/arctic_fast.py:282: RuntimeWarning: invalid value encountered in multiply\n",
      "  fill_probabilities_from_empty = capture_rates * exponential_factor\n",
      "/System/Volumes/Data/work/sw/pyxel/pyxel/models/charge_transfer/arctic_fast.py:282: RuntimeWarning: invalid value encountered in multiply\n",
      "  fill_probabilities_from_empty = capture_rates * exponential_factor\n",
      "/System/Volumes/Data/work/sw/pyxel/pyxel/models/charge_transfer/arctic_fast.py:282: RuntimeWarning: invalid value encountered in multiply\n",
      "  fill_probabilities_from_empty = capture_rates * exponential_factor\n"
     ]
    },
    {
     "name": "stdout",
     "output_type": "stream",
     "text": [
      "2.44 s ± 30.5 ms per loop (mean ± std. dev. of 7 runs, 1 loop each)\n"
     ]
    }
   ],
   "source": [
    "%%timeit\n",
    "\n",
    "single_mode(single=arctic_single, detector=arctic_detector, pipeline=arctic_pipeline)"
   ]
  },
  {
   "cell_type": "markdown",
   "id": "20e4ca71-8cbf-4493-8753-13653e9b4004",
   "metadata": {},
   "source": [
    "## Benchmarks line by line"
   ]
  },
  {
   "cell_type": "markdown",
   "id": "b98fae8f-a9a9-4ea4-a814-cf69fd3e4173",
   "metadata": {},
   "source": [
    "### Function `arctic_fast`"
   ]
  },
  {
   "cell_type": "code",
   "execution_count": 8,
   "id": "ff901449-8e04-49a2-bab2-b3acffda8814",
   "metadata": {},
   "outputs": [
    {
     "name": "stderr",
     "output_type": "stream",
     "text": [
      "/System/Volumes/Data/work/sw/pyxel/pyxel/models/charge_transfer/arctic_fast.py:282: RuntimeWarning: invalid value encountered in multiply\n",
      "  fill_probabilities_from_empty = capture_rates * exponential_factor\n"
     ]
    },
    {
     "data": {
      "text/plain": [
       "Timer unit: 1e-06 s\n",
       "\n",
       "Total time: 5.00137 s\n",
       "File: /System/Volumes/Data/work/sw/pyxel/pyxel/models/charge_transfer/arctic_fast.py\n",
       "Function: arctic_fast at line 961\n",
       "\n",
       "Line #      Hits         Time  Per Hit   % Time  Line Contents\n",
       "==============================================================\n",
       "   961                                           def arctic_fast(\n",
       "   962                                               detector: CCD,\n",
       "   963                                               well_fill_power: float,\n",
       "   964                                               density: float,\n",
       "   965                                               release_timescale: t.Sequence[float],\n",
       "   966                                               express=0,\n",
       "   967                                           ) -> np.ndarray:\n",
       "   968         1         10.0     10.0      0.0      char = detector.characteristics\n",
       "   969         1          4.0      4.0      0.0      image = detector.pixel.array\n",
       "   970         1          9.0      9.0      0.0      image = image.astype(float)\n",
       "   971         1         38.0     38.0      0.0      ccd = ac.CCD(well_fill_power=well_fill_power, full_well_depth=char.fwc)\n",
       "   972         1        274.0    274.0      0.0      roe = ac.ROE()\n",
       "   973         1         15.0     15.0      0.0      trap = ac.Trap(density=density, release_timescale=release_timescale)\n",
       "   974         2    5000996.0 2500498.0    100.0      s = add_cti(\n",
       "   975         1          1.0      1.0      0.0          image=image,\n",
       "   976         1          1.0      1.0      0.0          parallel_traps=[trap],\n",
       "   977         1          1.0      1.0      0.0          parallel_ccd=ccd,\n",
       "   978         1          1.0      1.0      0.0          parallel_roe=roe,\n",
       "   979         1          1.0      1.0      0.0          parallel_express=express,\n",
       "   980                                               )\n",
       "   981         1         18.0     18.0      0.0      detector.pixel.array = s\n",
       "   982         1          1.0      1.0      0.0      return s"
      ]
     },
     "metadata": {},
     "output_type": "display_data"
    }
   ],
   "source": [
    "%lprun -f arctic_fast single_mode(arctic_single, arctic_detector, arctic_pipeline)"
   ]
  },
  {
   "cell_type": "markdown",
   "id": "3628829b-be1d-4bd5-808f-db843e04b3fa",
   "metadata": {},
   "source": [
    "### Function `add_cti`"
   ]
  },
  {
   "cell_type": "code",
   "execution_count": 9,
   "id": "2d2bee6c-c803-431b-9ba2-57a905135d17",
   "metadata": {},
   "outputs": [
    {
     "name": "stderr",
     "output_type": "stream",
     "text": [
      "/System/Volumes/Data/work/sw/pyxel/pyxel/models/charge_transfer/arctic_fast.py:282: RuntimeWarning: invalid value encountered in multiply\n",
      "  fill_probabilities_from_empty = capture_rates * exponential_factor\n"
     ]
    },
    {
     "data": {
      "text/plain": [
       "Timer unit: 1e-06 s\n",
       "\n",
       "Total time: 4.9828 s\n",
       "File: /System/Volumes/Data/work/sw/pyxel/pyxel/models/charge_transfer/arctic_fast.py\n",
       "Function: add_cti at line 864\n",
       "\n",
       "Line #      Hits         Time  Per Hit   % Time  Line Contents\n",
       "==============================================================\n",
       "   864                                           def add_cti(\n",
       "   865                                               image,\n",
       "   866                                               parallel_ccd=None,\n",
       "   867                                               parallel_roe=None,\n",
       "   868                                               parallel_traps=None,\n",
       "   869                                               parallel_express=0,\n",
       "   870                                               parallel_offset=0,\n",
       "   871                                               parallel_window_range=None,\n",
       "   872                                               serial_ccd=None,\n",
       "   873                                               serial_roe=None,\n",
       "   874                                               serial_traps=None,\n",
       "   875                                               serial_express=0,\n",
       "   876                                               serial_offset=0,\n",
       "   877                                               serial_window_range=None,\n",
       "   878                                               time_window_range=None,\n",
       "   879                                           ):\n",
       "   880                                           \n",
       "   881         1          2.0      2.0      0.0      n_rows_in_image, n_columns_in_image = image.shape\n",
       "   882                                           \n",
       "   883                                               # Default windows to the full image; convert single-pixel windows to ranges\n",
       "   884         1          2.0      2.0      0.0      if parallel_window_range is None:\n",
       "   885         1          2.0      2.0      0.0          parallel_window_range = range(n_rows_in_image)\n",
       "   886                                               elif isinstance(parallel_window_range, int):\n",
       "   887                                                   parallel_window_range = range(parallel_window_range, parallel_window_range + 1)\n",
       "   888         1          1.0      1.0      0.0      if serial_window_range is None:\n",
       "   889         1          1.0      1.0      0.0          serial_window_range = range(n_columns_in_image)\n",
       "   890                                               elif isinstance(serial_window_range, int):\n",
       "   891                                                   serial_window_range = range(serial_window_range, serial_window_range + 1)\n",
       "   892         1          1.0      1.0      0.0      if time_window_range is None:\n",
       "   893         1          2.0      2.0      0.0          time_window_range = range(n_rows_in_image + parallel_offset)\n",
       "   894                                                   # Set the \"columns\" window in the rotated image for serial clocking\n",
       "   895         1          1.0      1.0      0.0          serial_window_column_range = parallel_window_range\n",
       "   896                                               else:\n",
       "   897                                                   # Intersection of spatial and time windows for serial clocking\n",
       "   898                                                   serial_window_column_range = range(\n",
       "   899                                                       int(max(parallel_window_range[0], time_window_range[0] - parallel_offset)),\n",
       "   900                                                       int(min(parallel_window_range[-1], time_window_range[-1] - parallel_offset))\n",
       "   901                                                       + 1,\n",
       "   902                                                   )\n",
       "   903                                           \n",
       "   904                                               # Default ROE: simple, single-phase clocking in imaging mode\n",
       "   905         1          1.0      1.0      0.0      if parallel_roe is None:\n",
       "   906                                                   parallel_roe = ROE()\n",
       "   907         1          1.0      1.0      0.0      if serial_roe is None:\n",
       "   908         1        153.0    153.0      0.0          serial_roe = ROE()\n",
       "   909                                           \n",
       "   910                                               # Don't modify the external array passed to this function\n",
       "   911         1         58.0     58.0      0.0      image_add_cti = deepcopy(image)\n",
       "   912                                           \n",
       "   913                                               # Parallel clocking\n",
       "   914         1          2.0      2.0      0.0      if parallel_traps is not None:\n",
       "   915         2    4982555.0 2491277.5    100.0          image_add_cti = clock_charge_in_one_direction(\n",
       "   916         1          1.0      1.0      0.0              image_in=image_add_cti,\n",
       "   917         1          1.0      1.0      0.0              ccd=parallel_ccd,\n",
       "   918         1          1.0      1.0      0.0              roe=parallel_roe,\n",
       "   919         1          2.0      2.0      0.0              traps=parallel_traps,\n",
       "   920         1          2.0      2.0      0.0              express=parallel_express,\n",
       "   921         1          1.0      1.0      0.0              offset=parallel_offset,\n",
       "   922         1          1.0      1.0      0.0              window_row_range=parallel_window_range,\n",
       "   923         1          1.0      1.0      0.0              window_column_range=serial_window_range,\n",
       "   924         1          1.0      1.0      0.0              time_window_range=time_window_range,\n",
       "   925                                                   )\n",
       "   926                                           \n",
       "   927                                               # Serial clocking\n",
       "   928         1          2.0      2.0      0.0      if serial_traps is not None:\n",
       "   929                                                   # Switch axes, so clocking happens in other direction\n",
       "   930                                                   image_add_cti = image_add_cti.T.copy()\n",
       "   931                                           \n",
       "   932                                                   # Transfer charge in serial direction\n",
       "   933                                                   image_add_cti = clock_charge_in_one_direction(\n",
       "   934                                                       image_in=image_add_cti,\n",
       "   935                                                       ccd=serial_ccd,\n",
       "   936                                                       roe=serial_roe,\n",
       "   937                                                       traps=serial_traps,\n",
       "   938                                                       express=serial_express,\n",
       "   939                                                       offset=serial_offset,\n",
       "   940                                                       window_row_range=serial_window_range,\n",
       "   941                                                       window_column_range=serial_window_column_range,\n",
       "   942                                                       time_window_range=None,\n",
       "   943                                                   )\n",
       "   944                                           \n",
       "   945                                                   # Switch axes back\n",
       "   946                                                   image_add_cti = image_add_cti.T\n",
       "   947                                           \n",
       "   948                                               # TODO : Implement as decorator\n",
       "   949         1          2.0      2.0      0.0      if isinstance(image, frames.Frame):\n",
       "   950                                                   return image.__class__(\n",
       "   951                                                       array=image_add_cti,\n",
       "   952                                                       mask=image.mask,\n",
       "   953                                                       original_roe_corner=image.original_roe_corner,\n",
       "   954                                                       scans=image.scans,\n",
       "   955                                                       exposure_info=image.exposure_info,\n",
       "   956                                                   )\n",
       "   957                                           \n",
       "   958         1          0.0      0.0      0.0      return image_add_cti"
      ]
     },
     "metadata": {},
     "output_type": "display_data"
    }
   ],
   "source": [
    "from pyxel.models.charge_transfer.arctic_fast import add_cti\n",
    "\n",
    "%lprun -f add_cti single_mode(arctic_single, arctic_detector, arctic_pipeline)"
   ]
  },
  {
   "cell_type": "markdown",
   "id": "b7d7f3a1-fd47-46d1-a206-cb0307447504",
   "metadata": {},
   "source": [
    "### Function `clock_charge_in_one_direction`"
   ]
  },
  {
   "cell_type": "code",
   "execution_count": 10,
   "id": "34a1e677-f2a6-4094-a78b-367a35da50de",
   "metadata": {},
   "outputs": [
    {
     "name": "stderr",
     "output_type": "stream",
     "text": [
      "/System/Volumes/Data/work/sw/pyxel/pyxel/models/charge_transfer/arctic_fast.py:282: RuntimeWarning: invalid value encountered in multiply\n",
      "  fill_probabilities_from_empty = capture_rates * exponential_factor\n"
     ]
    },
    {
     "data": {
      "text/plain": [
       "Timer unit: 1e-06 s\n",
       "\n",
       "Total time: 5.8423 s\n",
       "File: /System/Volumes/Data/work/sw/pyxel/pyxel/models/charge_transfer/arctic_fast.py\n",
       "Function: clock_charge_in_one_direction at line 695\n",
       "\n",
       "Line #      Hits         Time  Per Hit   % Time  Line Contents\n",
       "==============================================================\n",
       "   695                                           def clock_charge_in_one_direction(\n",
       "   696                                               image_in,\n",
       "   697                                               ccd,\n",
       "   698                                               roe,\n",
       "   699                                               traps,\n",
       "   700                                               express,\n",
       "   701                                               offset,\n",
       "   702                                               window_row_range,\n",
       "   703                                               window_column_range,\n",
       "   704                                               time_window_range,\n",
       "   705                                           ):\n",
       "   706                                           \n",
       "   707                                               # Generate the arrays over each step for: the number of of times that the\n",
       "   708                                               # effect of each pixel-to-pixel transfer can be multiplied for the express\n",
       "   709                                               # algorithm; and whether the traps must be monitored (usually whenever\n",
       "   710                                               # express matrix > 0, unless using a time window)\n",
       "   711         1          3.0      3.0      0.0      (\n",
       "   712         1          1.0      1.0      0.0          express_matrix,\n",
       "   713         1          2.0      2.0      0.0          monitor_traps_matrix,\n",
       "   714         2        495.0    247.5      0.0      ) = roe.express_matrix_and_monitor_traps_matrix_from_pixels_and_express(\n",
       "   715         1          2.0      2.0      0.0          pixels=window_row_range,\n",
       "   716         1          2.0      2.0      0.0          express=express,\n",
       "   717         1          1.0      1.0      0.0          offset=offset,\n",
       "   718         1          2.0      2.0      0.0          time_window_range=time_window_range,\n",
       "   719                                               )\n",
       "   720                                           \n",
       "   721                                               # ; and whether the trap occupancy states must be saved for the next express\n",
       "   722                                               # pass rather than being reset (usually at the end of each express pass)\n",
       "   723         2         10.0      5.0      0.0      save_trap_states_matrix = roe.save_trap_states_matrix_from_express_matrix(\n",
       "   724         1          1.0      1.0      0.0          express_matrix=express_matrix\n",
       "   725                                               )\n",
       "   726                                           \n",
       "   727                                               # Decide in advance which steps need to be evaluated and which can be skipped\n",
       "   728         2          7.0      3.5      0.0      phases_with_traps = np.array(\n",
       "   729         1          6.0      6.0      0.0          [i for i, frac in enumerate(ccd.fraction_of_traps_per_phase) if frac > 0],\n",
       "   730         1          2.0      2.0      0.0          dtype=np.int64,\n",
       "   731                                               )\n",
       "   732                                           \n",
       "   733         2          5.0      2.5      0.0      steps_with_nonzero_dwell_time = np.array(\n",
       "   734         1          4.0      4.0      0.0          [i for i, time in enumerate(roe.dwell_times) if time > 0], dtype=np.int64\n",
       "   735                                               )\n",
       "   736                                           \n",
       "   737                                               # Extract and type lots of things that won't be changed\n",
       "   738         1          2.0      2.0      0.0      n_express_pass = express_matrix.shape[0]\n",
       "   739         1          2.0      2.0      0.0      n_rows_to_process = express_matrix.shape[1]\n",
       "   740                                           \n",
       "   741                                               # Set up the set of trap managers to monitor the occupancy of all trap species\n",
       "   742         1          2.0      2.0      0.0      if isinstance(roe, ROETrapPumping):\n",
       "   743                                                   # For trap pumping there is only one pixel and row to process but\n",
       "   744                                                   # multiple transfers back and forth without clearing the watermarks\n",
       "   745                                                   # Note, this allows for many more watermarks than are actually needed\n",
       "   746                                                   # in standard trap-pumping clock sequences\n",
       "   747                                                   max_n_transfers = n_express_pass * steps_with_nonzero_dwell_time.shape[0]\n",
       "   748                                               else:\n",
       "   749         1          2.0      2.0      0.0          max_n_transfers = n_rows_to_process * steps_with_nonzero_dwell_time.shape[0]\n",
       "   750                                           \n",
       "   751         2        192.0     96.0      0.0      trap_managers = AllTrapManager(\n",
       "   752         1          2.0      2.0      0.0          traps=traps, max_n_transfers=max_n_transfers, ccd=ccd\n",
       "   753                                               )\n",
       "   754                                           \n",
       "   755                                               # Temporarily expand image, if charge released from traps ever migrates to\n",
       "   756                                               # a different charge packet, at any time during the clocking sequence\n",
       "   757         2          8.0      4.0      0.0      n_rows_zero_padding = max(roe.pixels_accessed_during_clocking) - min(\n",
       "   758         1          2.0      2.0      0.0          roe.pixels_accessed_during_clocking\n",
       "   759                                               )\n",
       "   760         1          5.0      5.0      0.0      zero_padding = np.zeros((n_rows_zero_padding, image_in.shape[1]), dtype=np.float64)\n",
       "   761                                           \n",
       "   762         1         11.0     11.0      0.0      image = np.concatenate((image_in, zero_padding), axis=0)\n",
       "   763                                           \n",
       "   764                                               # Read out one column of pixels through the (column of) traps\n",
       "   765        11         21.0      1.9      0.0      for column_index in window_column_range:\n",
       "   766                                                   # Monitor the traps in every pixel, or just one (express=1) or a few\n",
       "   767                                                   # (express=a few) then replicate their effect\n",
       "   768      1010       1608.0      1.6      0.0          for express_index in range(n_express_pass):\n",
       "   769                                                       # Restore the trap occupancy levels (to empty, or to a saved state\n",
       "   770                                                       # from a previous express pass)\n",
       "   771      1000     231421.0    231.4      4.0              trap_managers.restore()\n",
       "   772                                           \n",
       "   773                                                       # Set the steps that need to be evaluated (may need to monitor the\n",
       "   774                                                       # traps and update their occupancies even if express_mulitplier is\n",
       "   775                                                       # 0, e.g. for a time window)\n",
       "   776      1000      11508.0     11.5      0.2              row_indices = np.nonzero(monitor_traps_matrix[express_index])[0]\n",
       "   777                                           \n",
       "   778                                                       # Each pixel\n",
       "   779     22490      36155.0      1.6      0.6              for i_row in range(row_indices.shape[0]):\n",
       "   780     21490      37150.0      1.7      0.6                  row_index = row_indices[i_row]\n",
       "   781     21490      38598.0      1.8      0.7                  express_multiplier = express_matrix[express_index, row_index]\n",
       "   782                                           \n",
       "   783     42980      80752.0      1.9      1.4                  for i_clocking_step in range(steps_with_nonzero_dwell_time.shape[0]):\n",
       "   784     21490      36331.0      1.7      0.6                      clocking_step = steps_with_nonzero_dwell_time[i_clocking_step]\n",
       "   785                                           \n",
       "   786     42980      78076.0      1.8      1.3                      for i_phase in range(phases_with_traps.shape[0]):\n",
       "   787     21490      35807.0      1.7      0.6                          phase = phases_with_traps[i_phase]\n",
       "   788                                           \n",
       "   789                                                                   # Information about the potentials in this phase\n",
       "   790     21490      39468.0      1.8      0.7                          roe_phase = roe.clock_sequence[clocking_step][phase]\n",
       "   791                                           \n",
       "   792                                                                   # Select the relevant pixel (and phase) for the initial charge\n",
       "   793     21490      32392.0      1.5      0.6                          row_index_read = (\n",
       "   794     42980      69636.0      1.6      1.2                              window_row_range[row_index]\n",
       "   795     21490      33086.0      1.5      0.6                              + roe_phase.capture_from_which_pixel\n",
       "   796                                                                   )\n",
       "   797                                           \n",
       "   798                                                                   # Initial charge (0 if this phase's potential is not high)\n",
       "   799     21490      35130.0      1.6      0.6                          n_free_electrons = (\n",
       "   800     21490     172384.0      8.0      3.0                              image[row_index_read, column_index] * roe_phase.is_high\n",
       "   801                                                                   )\n",
       "   802                                           \n",
       "   803                                                                   # Allow electrons to be released from and captured by traps\n",
       "   804     21490      34059.0      1.6      0.6                          n_electrons_released_and_captured = 0\n",
       "   805     42980     113796.0      2.6      1.9                          for trap_manager in trap_managers[phase]:\n",
       "   806     42980      82605.0      1.9      1.4                              n_electrons_released_and_captured += (\n",
       "   807     42980    3599503.0     83.7     61.6                                  func_n_electrons_released_and_captured(\n",
       "   808     21490      32181.0      1.5      0.6                                      self=trap_manager,\n",
       "   809     21490      32061.0      1.5      0.5                                      n_free_electrons=n_free_electrons,\n",
       "   810     21490      48706.0      2.3      0.8                                      dwell_time=roe.dwell_times[clocking_step],\n",
       "   811     42980     113206.0      2.6      1.9                                      ccd_filling_function=ccd.well_filling_function(\n",
       "   812     21490      31984.0      1.5      0.5                                          phase=phase\n",
       "   813                                                                               ),\n",
       "   814     21490      32379.0      1.5      0.6                                      express_multiplier=express_multiplier,\n",
       "   815                                                                           )\n",
       "   816                                                                       )\n",
       "   817                                           \n",
       "   818                                                                   # Skip updating the image if only monitoring the traps\n",
       "   819     21490      44126.0      2.1      0.8                          if express_multiplier == 0:\n",
       "   820                                                                       continue\n",
       "   821                                           \n",
       "   822                                                                   # Select the relevant pixel (and phase(s)) for the returned charge\n",
       "   823     21490      35768.0      1.7      0.6                          row_indices_write = (\n",
       "   824     42980     128539.0      3.0      2.2                              window_row_range[row_index]\n",
       "   825     21490      35981.0      1.7      0.6                              + roe_phase.release_to_which_pixels\n",
       "   826                                                                   )\n",
       "   827                                           \n",
       "   828                                                                   # Return the electrons back to the relevant charge\n",
       "   829                                                                   # cloud, or a fraction if they are being returned to\n",
       "   830                                                                   # multiple phases\n",
       "   831     42980     102459.0      2.4      1.8                          for i in range(row_indices_write.shape[0]):\n",
       "   832     21490      43473.0      2.0      0.7                              row_index_write = row_indices_write[i]\n",
       "   833     42980      89787.0      2.1      1.5                              image[row_index_write, column_index] += (\n",
       "   834     64470     108049.0      1.7      1.8                                  n_electrons_released_and_captured\n",
       "   835     21490      38579.0      1.8      0.7                                  * roe_phase.release_fraction_to_pixel[i]\n",
       "   836     21490      32792.0      1.5      0.6                                  * express_multiplier\n",
       "   837                                                                       )\n",
       "   838                                           \n",
       "   839                                                                       # Make sure image counts don't go negative, as could\n",
       "   840                                                                       # otherwise happen with a large express_multiplier\n",
       "   841     21490      50071.0      2.3      0.9                              if image[row_index_write, column_index] < 0:\n",
       "   842                                                                           image[row_index_write, column_index] = 0\n",
       "   843                                           \n",
       "   844                                                           # Save the trap occupancy states for the next express pass\n",
       "   845     21490      39038.0      1.8      0.7                  if save_trap_states_matrix[express_index, row_index]:\n",
       "   846                                                               trap_managers.save()\n",
       "   847                                           \n",
       "   848                                                   # Reset the watermarks for the next column, effectively setting the trap\n",
       "   849                                                   # occupancies to zero\n",
       "   850        10         19.0      1.9      0.0          if roe.empty_traps_between_columns:\n",
       "   851        10         93.0      9.3      0.0              trap_managers.empty_all_traps()\n",
       "   852        10       2742.0    274.2      0.0          trap_managers.save()\n",
       "   853                                           \n",
       "   854                                               # Unexpand the image to its original dimensions\n",
       "   855         1          6.0      6.0      0.0      image_out = np.asarray(image)\n",
       "   856         1          3.0      3.0      0.0      if n_rows_zero_padding > 0:\n",
       "   857                                                   image_out = image_out[0:-n_rows_zero_padding, :]\n",
       "   858                                           \n",
       "   859         1          2.0      2.0      0.0      return image_out"
      ]
     },
     "metadata": {},
     "output_type": "display_data"
    }
   ],
   "source": [
    "from pyxel.models.charge_transfer.arctic_fast import clock_charge_in_one_direction\n",
    "\n",
    "%lprun -f clock_charge_in_one_direction single_mode(arctic_single, arctic_detector, arctic_pipeline)"
   ]
  },
  {
   "cell_type": "markdown",
   "id": "1ac3f9db-d18a-486e-83b6-533003e288fa",
   "metadata": {},
   "source": [
    "### Function `func_n_electrons_released_and_captured`"
   ]
  },
  {
   "cell_type": "code",
   "execution_count": 11,
   "id": "fea51666-e5de-4408-bfe7-3d1aad2ae693",
   "metadata": {},
   "outputs": [
    {
     "name": "stderr",
     "output_type": "stream",
     "text": [
      "/System/Volumes/Data/work/sw/pyxel/pyxel/models/charge_transfer/arctic_fast.py:282: RuntimeWarning: invalid value encountered in multiply\n",
      "  fill_probabilities_from_empty = capture_rates * exponential_factor\n"
     ]
    },
    {
     "data": {
      "text/plain": [
       "Timer unit: 1e-06 s\n",
       "\n",
       "Total time: 4.28608 s\n",
       "File: /System/Volumes/Data/work/sw/pyxel/pyxel/models/charge_transfer/arctic_fast.py\n",
       "Function: func_n_electrons_released_and_captured at line 545\n",
       "\n",
       "Line #      Hits         Time  Per Hit   % Time  Line Contents\n",
       "==============================================================\n",
       "   545                                           def func_n_electrons_released_and_captured(\n",
       "   546                                               self,  # type: TrapManager\n",
       "   547                                               n_free_electrons,\n",
       "   548                                               ccd_filling_function,\n",
       "   549                                               dwell_time=1,\n",
       "   550                                               express_multiplier=1,\n",
       "   551                                           ):\n",
       "   552                                           \n",
       "   553                                               # Initial watermarks and number of electrons in traps\n",
       "   554                                               # watermarks_initial = deepcopy(self.watermarks)\n",
       "   555     21490     118325.0      5.5      2.8      watermarks_initial = np.array(self.watermarks)\n",
       "   556     42980      99135.0      2.3      2.3      n_trapped_electrons_initial = numba_n_trapped_electrons_from_watermarks(\n",
       "   557     21490     136399.0      6.3      3.2          watermarks=self.watermarks, n_traps_per_pixel=self.n_traps_per_pixel\n",
       "   558                                               )\n",
       "   559                                           \n",
       "   560                                               # Probabilities of being full after release and/or capture\n",
       "   561     21490      24632.0      1.1      0.6      (\n",
       "   562     21490      19422.0      0.9      0.5          fill_probabilities_from_empty,\n",
       "   563     21490      18946.0      0.9      0.4          fill_probabilities_from_full,\n",
       "   564     21490      18732.0      0.9      0.4          fill_probabilities_from_release,\n",
       "   565     42980     558191.0     13.0     13.0      ) = fill_probabilities_from_dwell_time(\n",
       "   566     21490      21221.0      1.0      0.5          total_rates=self.total_rates,\n",
       "   567     21490      19601.0      0.9      0.5          capture_rates=self.capture_rates,\n",
       "   568     21490      19710.0      0.9      0.5          emission_rates=self.emission_rates,\n",
       "   569     21490      18803.0      0.9      0.4          dwell_time=dwell_time,\n",
       "   570                                               )\n",
       "   571                                           \n",
       "   572                                               # Find the highest active watermark\n",
       "   573                                               # max_watermark_index = np.argmax(self.watermarks[:, 0] == 0) - 1\n",
       "   574     21490      70381.0      3.3      1.6      max_watermark_index = my_func2(watermarks=self.watermarks)\n",
       "   575                                           \n",
       "   576                                               # The fractional volume the electron cloud reaches in the pixel well\n",
       "   577     42980     245999.0      5.7      5.7      cloud_fractional_volume = self.fraction_of_traps_exposed_from_n_electrons(\n",
       "   578     21490      19958.0      0.9      0.5          n_electrons=n_free_electrons, ccd_filling_function=ccd_filling_function\n",
       "   579                                               )\n",
       "   580                                           \n",
       "   581                                               # Find the first watermark above the cloud\n",
       "   582     21490      20387.0      0.9      0.5      watermark_index_above_cloud = (\n",
       "   583     42980      78749.0      1.8      1.8          watermark_index_above_cloud_from_cloud_fractional_volume(\n",
       "   584     21490      19947.0      0.9      0.5              cloud_fractional_volume=cloud_fractional_volume,\n",
       "   585     21490      21116.0      1.0      0.5              watermarks=self.watermarks,\n",
       "   586     21490      19534.0      0.9      0.5              max_watermark_index=max_watermark_index,\n",
       "   587                                                   )\n",
       "   588                                               )\n",
       "   589                                           \n",
       "   590                                               # Proceed with capture depending on the volume of the cloud compared\n",
       "   591                                               # with the existing watermark levels:\n",
       "   592                                           \n",
       "   593                                               # First capture (no existing watermarks)\n",
       "   594     21490      23497.0      1.1      0.5      if max_watermark_index == -1 and n_free_electrons > 0:\n",
       "   595                                                   # Make the new watermark then can return immediately\n",
       "   596       860        973.0      1.1      0.0          n_trapped_electrons_final = (\n",
       "   597      1720      27050.0     15.7      0.6              self._n_electrons_released_and_captured__first_capture(\n",
       "   598       860        841.0      1.0      0.0                  n_free_electrons,\n",
       "   599       860        779.0      0.9      0.0                  cloud_fractional_volume,\n",
       "   600       860        763.0      0.9      0.0                  watermarks_initial,\n",
       "   601       860        757.0      0.9      0.0                  fill_probabilities_from_empty,\n",
       "   602       860        777.0      0.9      0.0                  express_multiplier,\n",
       "   603                                                       )\n",
       "   604                                                   )\n",
       "   605                                           \n",
       "   606       860        773.0      0.9      0.0          return n_trapped_electrons_final\n",
       "   607                                           \n",
       "   608                                               # Cloud fractional volume below existing watermarks (or 0)\n",
       "   609     23640      23332.0      1.0      0.5      elif (\n",
       "   610     23640      23551.0      1.0      0.5          watermark_index_above_cloud <= max_watermark_index or max_watermark_index == -1\n",
       "   611                                               ):\n",
       "   612                                                   # Create a new watermark at the cloud fractional volume then release\n",
       "   613                                                   # electrons from watermarks above the cloud\n",
       "   614     35240      39576.0      1.1      0.9          (\n",
       "   615     17620      17737.0      1.0      0.4              n_free_electrons,\n",
       "   616     17620      22563.0      1.3      0.5              watermarks_initial,\n",
       "   617     17620      17529.0      1.0      0.4              cloud_fractional_volume,\n",
       "   618     17620      17270.0      1.0      0.4              watermark_index_above_cloud,\n",
       "   619     17620      16621.0      0.9      0.4              max_watermark_index,\n",
       "   620     35240     949862.0     27.0     22.2          ) = _n_electrons_released_and_captured_cloud_below_watermarks(\n",
       "   621     17620      16316.0      0.9      0.4              self,\n",
       "   622     17620      15946.0      0.9      0.4              n_free_electrons,\n",
       "   623     17620      15791.0      0.9      0.4              cloud_fractional_volume,\n",
       "   624     17620      15851.0      0.9      0.4              watermarks_initial,\n",
       "   625     17620      16051.0      0.9      0.4              watermark_index_above_cloud,\n",
       "   626     17620      15929.0      0.9      0.4              max_watermark_index,\n",
       "   627     17620      16018.0      0.9      0.4              fill_probabilities_from_release,\n",
       "   628     17620      16026.0      0.9      0.4              n_trapped_electrons_initial,\n",
       "   629     17620      15967.0      0.9      0.4              ccd_filling_function,\n",
       "   630                                                   )\n",
       "   631                                                   # Cloud fractional volume above existing watermarks\n",
       "   632                                               else:\n",
       "   633                                                   # Initialise the new watermark, duplicated for the initial watermarks\n",
       "   634      6020       7812.0      1.3      0.2          self.watermarks[\n",
       "   635      3010       3164.0      1.1      0.1              watermark_index_above_cloud, 0\n",
       "   636      3010      67705.0     22.5      1.6          ] = cloud_fractional_volume - np.sum(self.watermarks[:, 0])\n",
       "   637      6020       7577.0      1.3      0.2          watermarks_initial[watermark_index_above_cloud, 0] = self.watermarks[\n",
       "   638      3010       3004.0      1.0      0.1              watermark_index_above_cloud, 0\n",
       "   639                                                   ]\n",
       "   640                                           \n",
       "   641                                               # Continue with capture having prepared the new watermark at the cloud\n",
       "   642                                               # and released from any watermarks above the cloud\n",
       "   643                                           \n",
       "   644                                               # Release and capture electrons all the way to watermarks below the cloud\n",
       "   645     20630      42594.0      2.1      1.0      fill_fractions_old = self.watermarks[: watermark_index_above_cloud + 1, 1:]\n",
       "   646     20630     114182.0      5.5      2.7      self.watermarks[: watermark_index_above_cloud + 1, 1:] = (\n",
       "   647     41260     152319.0      3.7      3.6          fill_fractions_old * fill_probabilities_from_full\n",
       "   648     20630     145527.0      7.1      3.4          + (1 - fill_fractions_old) * fill_probabilities_from_empty\n",
       "   649                                               )\n",
       "   650                                           \n",
       "   651                                               # Collapse any redundant watermarks that are completely full\n",
       "   652     41260     235171.0      5.7      5.5      self.watermarks, watermarks_initial = collapse_redundant_watermarks(\n",
       "   653     20630      37299.0      1.8      0.9          filled_watermark_value=self.filled_watermark_value,\n",
       "   654     20630      21206.0      1.0      0.5          watermarks=self.watermarks,\n",
       "   655     20630      20452.0      1.0      0.5          watermarks_copy=watermarks_initial,\n",
       "   656                                               )\n",
       "   657                                           \n",
       "   658                                               # Final number of electrons in traps\n",
       "   659     41260      87332.0      2.1      2.0      n_trapped_electrons_final = numba_n_trapped_electrons_from_watermarks(\n",
       "   660     20630     141285.0      6.8      3.3          watermarks=self.watermarks, n_traps_per_pixel=self.n_traps_per_pixel\n",
       "   661                                               )\n",
       "   662                                           \n",
       "   663                                               # Prevent division by zero errors\n",
       "   664     20630      26077.0      1.3      0.6      if n_trapped_electrons_final == n_trapped_electrons_initial:\n",
       "   665      1590       1439.0      0.9      0.0          return 0\n",
       "   666                                           \n",
       "   667                                               # Not enough available electrons to capture\n",
       "   668     38080      47761.0      1.3      1.1      enough = n_free_electrons / (\n",
       "   669     19040      22363.0      1.2      0.5          n_trapped_electrons_final - n_trapped_electrons_initial\n",
       "   670                                               )\n",
       "   671     19040      39084.0      2.1      0.9      if 0 < enough < 1:\n",
       "   672                                                   # For watermark fill fractions that increased, tweak them such that\n",
       "   673                                                   # the resulting increase instead matches the available electrons\n",
       "   674                                                   self.watermarks = self.updated_watermarks_from_capture_not_enough(\n",
       "   675                                                       watermarks=self.watermarks,\n",
       "   676                                                       watermarks_initial=watermarks_initial,\n",
       "   677                                                       enough=enough,\n",
       "   678                                                   )\n",
       "   679                                           \n",
       "   680                                                   # Final number of electrons in traps\n",
       "   681                                                   n_trapped_electrons_final = numba_n_trapped_electrons_from_watermarks(\n",
       "   682                                                       watermarks=self.watermarks, n_traps_per_pixel=self.n_traps_per_pixel\n",
       "   683                                                   )\n",
       "   684                                           \n",
       "   685                                               # Collapse any redundant watermarks that are completely full\n",
       "   686     38080      95473.0      2.5      2.2      self.watermarks = collapse_redundant_watermarks_no_copy(\n",
       "   687     19040      30475.0      1.6      0.7          filled_watermark_value=self.filled_watermark_value,\n",
       "   688     19040      20535.0      1.1      0.5          watermarks=self.watermarks)\n",
       "   689                                           \n",
       "   690     19040      18914.0      1.0      0.4      return n_trapped_electrons_initial - n_trapped_electrons_final"
      ]
     },
     "metadata": {},
     "output_type": "display_data"
    }
   ],
   "source": [
    "from pyxel.models.charge_transfer.arctic_fast import (\n",
    "    func_n_electrons_released_and_captured,\n",
    ")\n",
    "\n",
    "%lprun -f func_n_electrons_released_and_captured single_mode(arctic_single, arctic_detector, arctic_pipeline)"
   ]
  },
  {
   "cell_type": "markdown",
   "id": "3cb7ec73-4d21-4eaf-8eed-269dab959878",
   "metadata": {},
   "source": [
    "### Function `_n_electrons_released_and_captured_cloud_below_watermarks`"
   ]
  },
  {
   "cell_type": "code",
   "execution_count": 12,
   "id": "bdb91c0e-de41-45a2-bc9e-1caffd117995",
   "metadata": {},
   "outputs": [
    {
     "name": "stderr",
     "output_type": "stream",
     "text": [
      "/System/Volumes/Data/work/sw/pyxel/pyxel/models/charge_transfer/arctic_fast.py:282: RuntimeWarning: invalid value encountered in multiply\n",
      "  fill_probabilities_from_empty = capture_rates * exponential_factor\n"
     ]
    },
    {
     "data": {
      "text/plain": [
       "Timer unit: 1e-06 s\n",
       "\n",
       "Total time: 1.25151 s\n",
       "File: /System/Volumes/Data/work/sw/pyxel/pyxel/models/charge_transfer/arctic_fast.py\n",
       "Function: _n_electrons_released_and_captured_cloud_below_watermarks at line 336\n",
       "\n",
       "Line #      Hits         Time  Per Hit   % Time  Line Contents\n",
       "==============================================================\n",
       "   336                                           def _n_electrons_released_and_captured_cloud_below_watermarks(\n",
       "   337                                               self,\n",
       "   338                                               n_free_electrons,\n",
       "   339                                               cloud_fractional_volume,\n",
       "   340                                               watermarks_initial,\n",
       "   341                                               watermark_index_above_cloud,\n",
       "   342                                               max_watermark_index,\n",
       "   343                                               fill_probabilities_from_release,\n",
       "   344                                               n_trapped_electrons_initial,\n",
       "   345                                               ccd_filling_function,\n",
       "   346                                           ):\n",
       "   347                                               # Create the new watermark at the cloud fractional volume\n",
       "   348     33610      61118.0      1.8      4.9      if cloud_fractional_volume > 0 and not value_in_cumsum(\n",
       "   349     16010      29315.0      1.8      2.3          cloud_fractional_volume, self.watermarks[:, 0]\n",
       "   350                                               ):\n",
       "   351                                                   # Update the watermark volumes, duplicated for the initial watermarks\n",
       "   352     32020      92159.0      2.9      7.4          self.watermarks = numba_update_watermark_volumes_for_cloud_below_highest(\n",
       "   353     16010      12223.0      0.8      1.0              watermarks=self.watermarks,\n",
       "   354     16010      10486.0      0.7      0.8              cloud_fractional_volume=cloud_fractional_volume,\n",
       "   355     16010      10287.0      0.6      0.8              watermark_index_above_cloud=watermark_index_above_cloud,\n",
       "   356                                                   )\n",
       "   357     32020      67168.0      2.1      5.4          watermarks_initial = numba_update_watermark_volumes_for_cloud_below_highest(\n",
       "   358     16010      10526.0      0.7      0.8              watermarks=watermarks_initial,\n",
       "   359     16010      10357.0      0.6      0.8              cloud_fractional_volume=cloud_fractional_volume,\n",
       "   360     16010      10303.0      0.6      0.8              watermark_index_above_cloud=watermark_index_above_cloud,\n",
       "   361                                                   )\n",
       "   362                                           \n",
       "   363                                                   # Increment the index now that an extra watermark has been set\n",
       "   364     16010      14595.0      0.9      1.2          max_watermark_index += 1\n",
       "   365                                           \n",
       "   366                                               # Release electrons from existing watermark levels above the cloud\n",
       "   367                                               # Update the fill fractions\n",
       "   368                                               # self.watermarks[\n",
       "   369                                               #     watermark_index_above_cloud + 1 : max_watermark_index + 1, 1:\n",
       "   370                                               # ] *= fill_probabilities_from_release\n",
       "   371     35200      59806.0      1.7      4.8      my_operation(\n",
       "   372     17600      13265.0      0.8      1.1          arr=self.watermarks,\n",
       "   373     17600      11566.0      0.7      0.9          watermark_index_above_cloud=watermark_index_above_cloud,\n",
       "   374     17600      11447.0      0.7      0.9          max_watermark_index=max_watermark_index,\n",
       "   375     17600      11430.0      0.6      0.9          fill_probabilities_from_release=fill_probabilities_from_release,\n",
       "   376                                               )\n",
       "   377                                           \n",
       "   378                                               # Current numbers of electrons temporarily in traps and now available\n",
       "   379     35200      59021.0      1.7      4.7      n_trapped_electrons_tmp = numba_n_trapped_electrons_from_watermarks(\n",
       "   380     17600     109034.0      6.2      8.7          watermarks=self.watermarks, n_traps_per_pixel=self.n_traps_per_pixel\n",
       "   381                                               )\n",
       "   382     17600      23061.0      1.3      1.8      n_free_electrons += n_trapped_electrons_initial - n_trapped_electrons_tmp\n",
       "   383                                           \n",
       "   384                                               # Re-calculate the fractional volume of the electron cloud\n",
       "   385     35200     165146.0      4.7     13.2      cloud_fractional_volume = self.fraction_of_traps_exposed_from_n_electrons(\n",
       "   386     17600      12849.0      0.7      1.0          n_electrons=n_free_electrons, ccd_filling_function=ccd_filling_function\n",
       "   387                                               )\n",
       "   388     17600      12386.0      0.7      1.0      watermark_index_above_cloud = (\n",
       "   389     35200      48698.0      1.4      3.9          watermark_index_above_cloud_from_cloud_fractional_volume(\n",
       "   390     17600      12283.0      0.7      1.0              cloud_fractional_volume=cloud_fractional_volume,\n",
       "   391     17600      13461.0      0.8      1.1              watermarks=self.watermarks,\n",
       "   392     17600      11944.0      0.7      1.0              max_watermark_index=max_watermark_index,\n",
       "   393                                                   )\n",
       "   394                                               )\n",
       "   395                                           \n",
       "   396                                               # Update the watermark volumes, duplicated for the initial watermarks\n",
       "   397     33610      48409.0      1.4      3.9      if cloud_fractional_volume > 0 and not value_in_cumsum(\n",
       "   398     16010      23203.0      1.4      1.9          cloud_fractional_volume, self.watermarks[:, 0]\n",
       "   399                                               ):\n",
       "   400     27620      69648.0      2.5      5.6          self.watermarks = numba_update_watermark_volumes_for_cloud_below_highest(\n",
       "   401     13810      10822.0      0.8      0.9              watermarks=self.watermarks,\n",
       "   402     13810       9660.0      0.7      0.8              cloud_fractional_volume=cloud_fractional_volume,\n",
       "   403     13810       9489.0      0.7      0.8              watermark_index_above_cloud=watermark_index_above_cloud,\n",
       "   404                                                   )\n",
       "   405     27620      60239.0      2.2      4.8          watermarks_initial = numba_update_watermark_volumes_for_cloud_below_highest(\n",
       "   406     13810       9941.0      0.7      0.8              watermarks=watermarks_initial,\n",
       "   407     13810       9691.0      0.7      0.8              cloud_fractional_volume=cloud_fractional_volume,\n",
       "   408     13810       9763.0      0.7      0.8              watermark_index_above_cloud=watermark_index_above_cloud,\n",
       "   409                                                   )\n",
       "   410                                           \n",
       "   411                                                   # Increment the index now that an extra watermark has been set\n",
       "   412     13810      12229.0      0.9      1.0          max_watermark_index += 1\n",
       "   413                                           \n",
       "   414     17600      12851.0      0.7      1.0      return (\n",
       "   415     17600      12450.0      0.7      1.0          n_free_electrons,\n",
       "   416     17600      12351.0      0.7      1.0          watermarks_initial,\n",
       "   417     17600      12279.0      0.7      1.0          cloud_fractional_volume,\n",
       "   418     17600      12214.0      0.7      1.0          watermark_index_above_cloud,\n",
       "   419     17600      12338.0      0.7      1.0          max_watermark_index,\n",
       "   420                                               )"
      ]
     },
     "metadata": {},
     "output_type": "display_data"
    }
   ],
   "source": [
    "from pyxel.models.charge_transfer.arctic_fast import (\n",
    "    _n_electrons_released_and_captured_cloud_below_watermarks,\n",
    ")\n",
    "\n",
    "%lprun -f _n_electrons_released_and_captured_cloud_below_watermarks single_mode(arctic_single, arctic_detector, arctic_pipeline)"
   ]
  }
 ],
 "metadata": {
  "kernelspec": {
   "display_name": "Python 3",
   "language": "python",
   "name": "python3"
  },
  "language_info": {
   "codemirror_mode": {
    "name": "ipython",
    "version": 3
   },
   "file_extension": ".py",
   "mimetype": "text/x-python",
   "name": "python",
   "nbconvert_exporter": "python",
   "pygments_lexer": "ipython3",
   "version": "3.8.6"
  },
  "toc-autonumbering": true
 },
 "nbformat": 4,
 "nbformat_minor": 5
}
